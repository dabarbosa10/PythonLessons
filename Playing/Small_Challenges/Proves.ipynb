{
 "cells": [
  {
   "cell_type": "code",
   "execution_count": 1,
   "metadata": {},
   "outputs": [],
   "source": [
    "def backward_string(val:str):\n",
    "    val=val[::-1]\n",
    "    return val"
   ]
  },
  {
   "cell_type": "code",
   "execution_count": 2,
   "metadata": {},
   "outputs": [
    {
     "data": {
      "text/plain": [
       "'ogeiD'"
      ]
     },
     "execution_count": 2,
     "metadata": {},
     "output_type": "execute_result"
    }
   ],
   "source": [
    "backward_string('Diego')"
   ]
  },
  {
   "cell_type": "code",
   "execution_count": 3,
   "metadata": {},
   "outputs": [],
   "source": [
    "def remove_all_before(items:list, border:int):\n",
    "    if border not in items:\n",
    "        return items\n",
    "    else:\n",
    "        a=items.index(border)\n",
    "        items=items[a:]\n",
    "        return items"
   ]
  },
  {
   "cell_type": "code",
   "execution_count": 4,
   "metadata": {},
   "outputs": [
    {
     "data": {
      "text/plain": [
       "[3, 4, 6, 7]"
      ]
     },
     "execution_count": 4,
     "metadata": {},
     "output_type": "execute_result"
    }
   ],
   "source": [
    "remove_all_before([3,4,6,7],0)"
   ]
  },
  {
   "cell_type": "code",
   "execution_count": 5,
   "metadata": {},
   "outputs": [
    {
     "data": {
      "text/plain": [
       "[4, 6, 7]"
      ]
     },
     "execution_count": 5,
     "metadata": {},
     "output_type": "execute_result"
    }
   ],
   "source": [
    "remove_all_before([3,4,6,7],4)"
   ]
  },
  {
   "cell_type": "code",
   "execution_count": 6,
   "metadata": {},
   "outputs": [],
   "source": [
    "def replace_first(items: list):\n",
    "    if len(items)==0:\n",
    "        return items\n",
    "    else:\n",
    "        a=items[0]\n",
    "        items.remove(items[0])\n",
    "        items.append(a)\n",
    "    return items"
   ]
  },
  {
   "cell_type": "code",
   "execution_count": 7,
   "metadata": {},
   "outputs": [],
   "source": [
    "import string\n",
    "def max_digit(numb):\n",
    "    number=sorted(str(numb))\n",
    "    return int(number[len(number)-1])"
   ]
  },
  {
   "cell_type": "code",
   "execution_count": 8,
   "metadata": {},
   "outputs": [
    {
     "data": {
      "text/plain": [
       "int"
      ]
     },
     "execution_count": 8,
     "metadata": {},
     "output_type": "execute_result"
    }
   ],
   "source": [
    "type(max_digit(1000))"
   ]
  },
  {
   "cell_type": "code",
   "execution_count": 9,
   "metadata": {},
   "outputs": [
    {
     "data": {
      "text/plain": [
       "6"
      ]
     },
     "execution_count": 9,
     "metadata": {},
     "output_type": "execute_result"
    }
   ],
   "source": [
    "max_digit(634)"
   ]
  },
  {
   "cell_type": "code",
   "execution_count": 10,
   "metadata": {},
   "outputs": [],
   "source": [
    "def split_pairs(a:str):\n",
    "    n=len(a)\n",
    "    split=[]\n",
    "    if n==0:\n",
    "        return split\n",
    "    if (n%2!=0):\n",
    "        a=a+'_'\n",
    "        for i in range(0,n,2):\n",
    "            split.append(a[i:i+2])\n",
    "    elif(n%2==0):\n",
    "        for i in range(0,n,2):\n",
    "            split.append(a[i:i+2])\n",
    "    return split\n",
    "    "
   ]
  },
  {
   "cell_type": "code",
   "execution_count": 20,
   "metadata": {},
   "outputs": [],
   "source": [
    "def beginning_zeros(number: str) -> int:\n",
    "    if int(number[0])!=0:\n",
    "        count=0\n",
    "    for i in range(len(number)):\n",
    "        if int(number[i])!=0:\n",
    "            break\n",
    "        else: \n",
    "            count=i+1\n",
    "    return count"
   ]
  },
  {
   "cell_type": "code",
   "execution_count": 21,
   "metadata": {},
   "outputs": [],
   "source": [
    "assert beginning_zeros('100') == 0\n",
    "assert beginning_zeros('001') == 2\n",
    "assert beginning_zeros('100100') == 0\n",
    "assert beginning_zeros('001001') == 2\n",
    "assert beginning_zeros('012345679') == 1"
   ]
  },
  {
   "cell_type": "code",
   "execution_count": 23,
   "metadata": {},
   "outputs": [],
   "source": [
    "def AR(a:list,b:int):\n",
    "    c=[]\n",
    "    for i in range(len(a)):\n",
    "        c.append(abs(a[i]-b))\n",
    "    mn=min(c)\n",
    "    return a[c.index(mn)]"
   ]
  },
  {
   "cell_type": "code",
   "execution_count": 24,
   "metadata": {},
   "outputs": [],
   "source": [
    "def nearest_value(values: set, b: int) -> int:\n",
    "    a=sorted(list(values))\n",
    "    c=[]\n",
    "    for i in range(len(a)):\n",
    "        c.append(abs(a[i]-b))\n",
    "    mn=min(c)\n",
    "    return a[c.index(mn)]"
   ]
  },
  {
   "cell_type": "code",
   "execution_count": 25,
   "metadata": {},
   "outputs": [
    {
     "name": "stdout",
     "output_type": "stream",
     "text": [
      "Example:\n",
      "10\n"
     ]
    }
   ],
   "source": [
    "print(\"Example:\")\n",
    "print(nearest_value({4, 7, 10, 11, 12, 17}, 9))\n",
    "\n",
    "    # These \"asserts\" are used for self-checking and not for an auto-testing\n",
    "assert nearest_value({4, 7, 10, 11, 12, 17}, 9) == 10\n",
    "assert nearest_value({4, 7, 10, 11, 12, 17}, 8) == 7\n",
    "assert nearest_value({4, 8, 10, 11, 12, 17}, 9) == 8\n",
    "assert nearest_value({4, 9, 10, 11, 12, 17}, 9) == 9\n",
    "assert nearest_value({4, 7, 10, 11, 12, 17}, 0) == 4\n",
    "assert nearest_value({4, 7, 10, 11, 12, 17}, 100) == 17\n",
    "assert nearest_value({5, 10, 8, 12, 89, 100}, 7) == 8\n",
    "assert nearest_value({-1, 2, 3}, 0) == -1"
   ]
  },
  {
   "cell_type": "code",
   "execution_count": 27,
   "metadata": {},
   "outputs": [],
   "source": [
    "def checkio(arrays: list) -> int:\n",
    "    con=0\n",
    "    if len(arrays)==0:\n",
    "        return 0\n",
    "    else:\n",
    "        for i in range(0,len(arrays),2):\n",
    "            con+=arrays[i]\n",
    "    return con*arrays[-1]"
   ]
  },
  {
   "cell_type": "code",
   "execution_count": 28,
   "metadata": {},
   "outputs": [
    {
     "data": {
      "text/plain": [
       "30"
      ]
     },
     "execution_count": 28,
     "metadata": {},
     "output_type": "execute_result"
    }
   ],
   "source": [
    "checkio([0, 1, 2, 3, 4, 5])"
   ]
  },
  {
   "cell_type": "code",
   "execution_count": 35,
   "metadata": {},
   "outputs": [],
   "source": [
    "def is_even(num: int) -> bool:\n",
    "    if num%2==0:\n",
    "        return True\n",
    "    return False"
   ]
  },
  {
   "cell_type": "code",
   "execution_count": 9,
   "metadata": {},
   "outputs": [],
   "source": [
    "import string\n",
    "LC=string.ascii_lowercase\n",
    "UP=string.ascii_uppercase\n",
    "pun=string.punctuation"
   ]
  },
  {
   "cell_type": "code",
   "execution_count": 47,
   "metadata": {},
   "outputs": [],
   "source": [
    "import string\n",
    "def correct_sentence(text: str) -> str:\n",
    "    \"\"\"\n",
    "        returns a corrected sentence which starts with a capital letter\n",
    "        and ends with a dot.\n",
    "    \"\"\"\n",
    "    LC=string.ascii_lowercase\n",
    "    UP=string.ascii_uppercase\n",
    "    pun=string.punctuation\n",
    "    text=list(text)\n",
    "    #print(text)\n",
    "    if text[0] is not UP:\n",
    "        text[0]=UP[LC.index(text[0])]\n",
    "    if text[-1] is not ('.'):\n",
    "        a=['.']\n",
    "        text=text+a\n",
    "        \n",
    "    text=\"\".join(text)\n",
    "    return text"
   ]
  },
  {
   "cell_type": "code",
   "execution_count": 117,
   "metadata": {},
   "outputs": [],
   "source": [
    "import string\n",
    "def correct_sentence(text: str) -> str:\n",
    "    \"\"\"\n",
    "        returns a corrected sentence which starts with a capital letter\n",
    "        and ends with a dot.\n",
    "    \"\"\"\n",
    "    LC=string.ascii_lowercase\n",
    "    UP=string.ascii_uppercase\n",
    "    text=list(text)\n",
    "    if text[0] in LC:\n",
    "        text[0]=UP[LC.index(text[0])]\n",
    "    if text[-1] != ('.'):\n",
    "        a=['.']\n",
    "        text=text+a\n",
    "        \n",
    "    text=\"\".join(text)\n",
    "    return text"
   ]
  },
  {
   "cell_type": "code",
   "execution_count": 118,
   "metadata": {},
   "outputs": [],
   "source": [
    "assert correct_sentence(\"greetings, friends\") == \"Greetings, friends.\"\n",
    "assert correct_sentence(\"Greetings, friends\") == \"Greetings, friends.\"\n",
    "assert correct_sentence(\"Greetings, friends.\") == \"Greetings, friends.\"\n",
    "assert correct_sentence(\"hi\") == \"Hi.\"\n",
    "assert correct_sentence(\"welcome to New York\") == \"Welcome to New York.\""
   ]
  },
  {
   "cell_type": "code",
   "execution_count": null,
   "metadata": {},
   "outputs": [],
   "source": []
  }
 ],
 "metadata": {
  "kernelspec": {
   "display_name": "Python 3",
   "language": "python",
   "name": "python3"
  },
  "language_info": {
   "codemirror_mode": {
    "name": "ipython",
    "version": 3
   },
   "file_extension": ".py",
   "mimetype": "text/x-python",
   "name": "python",
   "nbconvert_exporter": "python",
   "pygments_lexer": "ipython3",
   "version": "3.7.6"
  }
 },
 "nbformat": 4,
 "nbformat_minor": 4
}
