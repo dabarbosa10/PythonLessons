{
  "nbformat": 4,
  "nbformat_minor": 0,
  "metadata": {
    "colab": {
      "name": "HW3.ipynb",
      "provenance": []
    },
    "kernelspec": {
      "name": "python3",
      "display_name": "Python 3"
    }
  },
  "cells": [
    {
      "cell_type": "code",
      "metadata": {
        "id": "BapSkUUzPGJv"
      },
      "source": [
        "import numpy as np\n",
        "import random\n",
        "import matplotlib.pyplot as plt"
      ],
      "execution_count": 1,
      "outputs": []
    },
    {
      "cell_type": "code",
      "metadata": {
        "id": "8JlvjRyMPR0Z"
      },
      "source": [
        "class gradient:\n",
        "  def __init__(self, X, Y, BETA, alpha, m, iter):\n",
        "    self.X=X\n",
        "    self.Y=Y\n",
        "    self.BETA=BETA \n",
        "    self.alpha=alpha\n",
        "    self.m=m\n",
        "    self.iter= iter\n",
        "  def compute_grad(self):\n",
        "    Xtrans=(self.X).T\n",
        "    for i in range(0,self.iter):\n",
        "      guess=np.dot(self.X, self.BETA)\n",
        "      loss=guess-self.Y\n",
        "      costf=np.sum(loss**2)/(2*self.m)\n",
        "      vec_grad=np.dot(Xtrans,loss)/(self.m)\n",
        "      self.BETA=self.BETA-alpha*vec_grad\n",
        "      return self.BETA\n"
      ],
      "execution_count": 2,
      "outputs": []
    },
    {
      "cell_type": "code",
      "metadata": {
        "id": "lAvCUe_tRIgS"
      },
      "source": [
        "def gen_data(num_of_training_data_points, bias, variance):\n",
        "    x = np.zeros(shape=(num_of_training_data_points, 2))\n",
        "    y = np.zeros(shape=num_of_training_data_points)\n",
        "\n",
        "    for i in range(0, num_of_training_data_points):\n",
        "        x[i][0] = 1\n",
        "        x[i][1] = i\n",
        "        y[i] = (i + bias) + random.uniform(0, 1) * variance\n",
        "\n",
        "    return x, y"
      ],
      "execution_count": 3,
      "outputs": []
    },
    {
      "cell_type": "code",
      "metadata": {
        "id": "pZbJnlURRMO4"
      },
      "source": [
        "def plot_model(x, y, w):\n",
        "    plt.plot(x[:,1], y, \"bx\")\n",
        "    plt.plot(x[:,1], x * w, \"r-\")\n",
        "    plt.show()"
      ],
      "execution_count": 4,
      "outputs": []
    },
    {
      "cell_type": "code",
      "metadata": {
        "id": "AkRKAz4YRPEH"
      },
      "source": [
        "x, y = gen_data(100, 5, 2)\n",
        "m, n = np.shape(x)\n",
        "num_of_iterations = 1000000\n",
        "alpha = 0.0005\n",
        "beta = np.ones(n)"
      ],
      "execution_count": 9,
      "outputs": []
    },
    {
      "cell_type": "code",
      "metadata": {
        "id": "0jKGZWyIRaWA"
      },
      "source": [
        "model=gradient(x,y,beta,alpha,m,num_of_iterations)"
      ],
      "execution_count": 10,
      "outputs": []
    },
    {
      "cell_type": "code",
      "metadata": {
        "id": "JD4_Zn6aRmUo"
      },
      "source": [
        "w=model.compute_grad()"
      ],
      "execution_count": 11,
      "outputs": []
    },
    {
      "cell_type": "code",
      "metadata": {
        "colab": {
          "base_uri": "https://localhost:8080/",
          "height": 265
        },
        "id": "FlSLADsUSG43",
        "outputId": "ef6146f5-21b6-41ec-dbeb-66c6ce61cc52"
      },
      "source": [
        "plot_model(x,y,w)"
      ],
      "execution_count": 12,
      "outputs": [
        {
          "output_type": "display_data",
          "data": {
            "image/png": "[encoded data removed]",
            "text/plain": [
              "<Figure size 432x288 with 1 Axes>"
            ]
          },
          "metadata": {
            "tags": [],
            "needs_background": "light"
          }
        }
      ]
    },
    {
      "cell_type": "code",
      "metadata": {
        "id": "uAzf-RUkSf1r"
      },
      "source": [
        ""
      ],
      "execution_count": 8,
      "outputs": []
    }
  ]
}