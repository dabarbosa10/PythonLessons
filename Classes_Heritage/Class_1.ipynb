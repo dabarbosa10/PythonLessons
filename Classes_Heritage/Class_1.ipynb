{
 "cells": [
  {
   "cell_type": "code",
   "execution_count": 1,
   "metadata": {},
   "outputs": [
    {
     "data": {
      "text/plain": [
       "'Diego'"
      ]
     },
     "execution_count": 1,
     "metadata": {},
     "output_type": "execute_result"
    }
   ],
   "source": [
    "string=\"diego\"\n",
    "string.capitalize() #method"
   ]
  },
  {
   "cell_type": "code",
   "execution_count": 4,
   "metadata": {},
   "outputs": [],
   "source": [
    "class Rectangle:\n",
    "    \"\"\"Object: Describes properties \"\"\"\n",
    "    def __init__(self, width, height, center=(0.0,0.0)):\n",
    "        \"\"\"Attributes of a particular instance\"\"\"\n",
    "        self.width=width\n",
    "        self.height=height\n",
    "        self.center=center\n",
    "        \n",
    "    def __repr__(self):\n",
    "        \"\"\" Returns a string to be used as a printable representation\n",
    "            of a given rectangle.\"\"\"\n",
    "        return \"Rectangle(width={w}, height={h}, center={c})\".format(h=self.height,\n",
    "                                                                     w=self.width,\n",
    "                                                                     c=self.center)\n",
    "    def compute_area(self):\n",
    "        return self.width*self.height\n",
    "    def compute_corners(self):\n",
    "        cx,cy=self.center\n",
    "        dx=self.width/2.0\n",
    "        dy=self.height/2.0\n",
    "        return [(cx+x,cy+y) for x,y in ((dx,dy),(dx,-dy),(-dx,-dy),(-dx,dy))]\n",
    "    "
   ]
  },
  {
   "cell_type": "code",
   "execution_count": 7,
   "metadata": {},
   "outputs": [
    {
     "data": {
      "text/plain": [
       "Rectangle(width=5, height=15, center=(0.0, 0.0))"
      ]
     },
     "execution_count": 7,
     "metadata": {},
     "output_type": "execute_result"
    }
   ],
   "source": [
    "#Create a rectangle of width 5, height 15 centered at (0,0) \n",
    "rect1=Rectangle(5,15)\n",
    "rect1"
   ]
  },
  {
   "cell_type": "code",
   "execution_count": 8,
   "metadata": {},
   "outputs": [
    {
     "data": {
      "text/plain": [
       "75"
      ]
     },
     "execution_count": 8,
     "metadata": {},
     "output_type": "execute_result"
    }
   ],
   "source": [
    "rect1.compute_area()"
   ]
  },
  {
   "cell_type": "code",
   "execution_count": 9,
   "metadata": {},
   "outputs": [
    {
     "data": {
      "text/plain": [
       "[(2.5, 7.5), (2.5, -7.5), (-2.5, -7.5), (-2.5, 7.5)]"
      ]
     },
     "execution_count": 9,
     "metadata": {},
     "output_type": "execute_result"
    }
   ],
   "source": [
    "rect1.compute_corners()"
   ]
  },
  {
   "cell_type": "code",
   "execution_count": null,
   "metadata": {},
   "outputs": [],
   "source": []
  }
 ],
 "metadata": {
  "kernelspec": {
   "display_name": "Python 3",
   "language": "python",
   "name": "python3"
  },
  "language_info": {
   "codemirror_mode": {
    "name": "ipython",
    "version": 3
   },
   "file_extension": ".py",
   "mimetype": "text/x-python",
   "name": "python",
   "nbconvert_exporter": "python",
   "pygments_lexer": "ipython3",
   "version": "3.7.6"
  }
 },
 "nbformat": 4,
 "nbformat_minor": 4
}
