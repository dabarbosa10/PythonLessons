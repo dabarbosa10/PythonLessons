{
  "nbformat": 4,
  "nbformat_minor": 0,
  "metadata": {
    "colab": {
      "name": "LogicGates.ipynb",
      "provenance": []
    },
    "kernelspec": {
      "name": "python3",
      "display_name": "Python 3"
    }
  },
  "cells": [
    {
      "cell_type": "code",
      "metadata": {
        "id": "QNy5xJf1ZHvA"
      },
      "source": [
        "class BinaryGate:\n",
        "  def __init__(self,n):\n",
        "    self.label=n\n",
        "    self.output=None\n",
        "\n",
        "  def getLabel(self):\n",
        "    return self.label\n",
        "\n",
        "  def getOutput(self):\n",
        "    self.output = self.performGateLogic()\n",
        "    return self.output\n"
      ],
      "execution_count": 1,
      "outputs": []
    },
    {
      "cell_type": "code",
      "metadata": {
        "id": "3M7cPPUVawRP"
      },
      "source": [
        ""
      ],
      "execution_count": null,
      "outputs": []
    }
  ]
}