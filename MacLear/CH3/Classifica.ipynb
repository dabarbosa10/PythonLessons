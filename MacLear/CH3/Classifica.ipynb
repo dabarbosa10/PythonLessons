{
  "nbformat": 4,
  "nbformat_minor": 0,
  "metadata": {
    "colab": {
      "name": "Classifica.ipynb",
      "provenance": []
    },
    "kernelspec": {
      "name": "python3",
      "display_name": "Python 3"
    }
  },
  "cells": [
    {
      "cell_type": "code",
      "metadata": {
        "id": "ZNP1YGzhPpoB"
      },
      "source": [
        "import numpy as np\n",
        "import matplotlib.pyplot as plt\n",
        "%matplotlib inline"
      ],
      "execution_count": 1,
      "outputs": []
    },
    {
      "cell_type": "markdown",
      "metadata": {
        "id": "j3OqWFzmQQ0e"
      },
      "source": [
        "### Classification Algorithm \n",
        "<br>\n",
        "<br>\n",
        "No free lunch theorem: no single classifier works best acrros all possible scenarios. \n",
        "<br>\n",
        "You should compare the performance of different algorithms"
      ]
    },
    {
      "cell_type": "markdown",
      "metadata": {
        "id": "4ys5W0fGRsQq"
      },
      "source": [
        "### Perceptron ScikitLearn"
      ]
    },
    {
      "cell_type": "code",
      "metadata": {
        "id": "q4tMkPfMRzJJ"
      },
      "source": [
        "from sklearn import datasets\n",
        "iris=datasets.load_iris()\n",
        "X=iris.data[:,[2,3]] #Select columns 3 and 4\n",
        "y=iris.target"
      ],
      "execution_count": 2,
      "outputs": []
    },
    {
      "cell_type": "code",
      "metadata": {
        "colab": {
          "base_uri": "https://localhost:8080/"
        },
        "id": "I-Aqvo3BSFWY",
        "outputId": "2f947c60-ac96-403c-c4fc-e33488123cf6"
      },
      "source": [
        "print('Class labels:', np.unique(y))"
      ],
      "execution_count": 3,
      "outputs": [
        {
          "output_type": "stream",
          "text": [
            "Class labels: [0 1 2]\n"
          ],
          "name": "stdout"
        }
      ]
    },
    {
      "cell_type": "code",
      "metadata": {
        "id": "3uAG7-aKSPHU"
      },
      "source": [
        "#test and training data using sklearn\n",
        "from sklearn.model_selection import train_test_split\n",
        "X_train, X_test, y_train, y_test=train_test_split(X,y,test_size=0.3, random_state=1, stratify=y)"
      ],
      "execution_count": 4,
      "outputs": []
    },
    {
      "cell_type": "code",
      "metadata": {
        "colab": {
          "base_uri": "https://localhost:8080/"
        },
        "id": "6AmsCqRVTniD",
        "outputId": "46b1a59d-eef5-405b-be00-edb9484fc3c8"
      },
      "source": [
        "print ('Labels counts in y_test: ',np.bincount(y_train))"
      ],
      "execution_count": 5,
      "outputs": [
        {
          "output_type": "stream",
          "text": [
            "Labels counts in y_test:  [35 35 35]\n"
          ],
          "name": "stdout"
        }
      ]
    },
    {
      "cell_type": "code",
      "metadata": {
        "colab": {
          "base_uri": "https://localhost:8080/"
        },
        "id": "-UjLzoIZUXyp",
        "outputId": "27f298a3-4680-4ad7-db0a-b6ecee433fa1"
      },
      "source": [
        "y_train"
      ],
      "execution_count": 6,
      "outputs": [
        {
          "output_type": "execute_result",
          "data": {
            "text/plain": [
              "array([0, 0, 2, 2, 0, 2, 2, 0, 2, 1, 1, 1, 0, 1, 1, 2, 0, 1, 1, 0, 2, 2,\n",
              "       1, 1, 1, 2, 1, 2, 2, 2, 1, 0, 2, 2, 2, 2, 1, 2, 2, 0, 2, 0, 2, 0,\n",
              "       0, 1, 0, 0, 2, 1, 0, 1, 1, 0, 0, 0, 1, 2, 0, 1, 0, 1, 2, 0, 0, 1,\n",
              "       2, 1, 1, 1, 2, 1, 1, 2, 2, 1, 0, 0, 2, 1, 2, 2, 0, 1, 2, 2, 0, 0,\n",
              "       2, 0, 2, 1, 1, 1, 0, 2, 1, 0, 0, 1, 0, 1, 0, 0, 0])"
            ]
          },
          "metadata": {
            "tags": []
          },
          "execution_count": 6
        }
      ]
    },
    {
      "cell_type": "markdown",
      "metadata": {
        "id": "N-otWZlRUptd"
      },
      "source": [
        "Remember that to assure improve the performance of the gradient descent, for example it is important to scale the features."
      ]
    },
    {
      "cell_type": "code",
      "metadata": {
        "id": "ONmZS_mvUbL4"
      },
      "source": [
        "from sklearn.preprocessing import StandardScaler\n",
        "sc=StandardScaler()\n",
        "sc.fit(X_train)\n",
        "X_train_std=sc.transform(X_train)\n",
        "X_test_std=sc.transform(X_test)"
      ],
      "execution_count": 7,
      "outputs": []
    },
    {
      "cell_type": "markdown",
      "metadata": {
        "id": "6eXJYenKVpci"
      },
      "source": [
        "The fit method estimated the median and standard deviation of every feature of the X_train data\n",
        "<br> \n",
        "Remember that the scaling is performed using the formula\n",
        "<br>\n",
        "$x_{std}=\\frac{x-\\mu}{\\sigma}$ "
      ]
    },
    {
      "cell_type": "markdown",
      "metadata": {
        "id": "KnWP5lw6WvFN"
      },
      "source": [
        "#Implementing the perceptron from Sklearn:"
      ]
    },
    {
      "cell_type": "code",
      "metadata": {
        "colab": {
          "base_uri": "https://localhost:8080/"
        },
        "id": "hTTGANcrVQBJ",
        "outputId": "00f4f9f7-de7c-4c82-91e2-cdb58fdb04db"
      },
      "source": [
        "from sklearn.linear_model import Perceptron\n",
        "\n",
        "ppn=Perceptron(max_iter=40, eta0=0.1, random_state=1)\n",
        "ppn.fit(X_train_std,y_train)"
      ],
      "execution_count": 8,
      "outputs": [
        {
          "output_type": "execute_result",
          "data": {
            "text/plain": [
              "Perceptron(alpha=0.0001, class_weight=None, early_stopping=False, eta0=0.1,\n",
              "           fit_intercept=True, max_iter=40, n_iter_no_change=5, n_jobs=None,\n",
              "           penalty=None, random_state=1, shuffle=True, tol=0.001,\n",
              "           validation_fraction=0.1, verbose=0, warm_start=False)"
            ]
          },
          "metadata": {
            "tags": []
          },
          "execution_count": 8
        }
      ]
    },
    {
      "cell_type": "code",
      "metadata": {
        "colab": {
          "base_uri": "https://localhost:8080/"
        },
        "id": "KRjbydgxXIAZ",
        "outputId": "01c7d018-e863-495a-bcc1-0ec579837b1c"
      },
      "source": [
        "y_pred=ppn.predict(X_test_std)\n",
        "print('Misclassified samples: %d' %(y_test != y_pred).sum())"
      ],
      "execution_count": 9,
      "outputs": [
        {
          "output_type": "stream",
          "text": [
            "Misclassified samples: 1\n"
          ],
          "name": "stdout"
        }
      ]
    },
    {
      "cell_type": "code",
      "metadata": {
        "colab": {
          "base_uri": "https://localhost:8080/"
        },
        "id": "ozHcoevWYI7V",
        "outputId": "64bb722a-efb3-4f7b-dbdb-fcaffb38e09c"
      },
      "source": [
        "from sklearn.metrics import accuracy_score\n",
        "print('Accuracy: %.2f' % accuracy_score(y_test,y_pred))"
      ],
      "execution_count": 10,
      "outputs": [
        {
          "output_type": "stream",
          "text": [
            "Accuracy: 0.98\n"
          ],
          "name": "stdout"
        }
      ]
    },
    {
      "cell_type": "markdown",
      "metadata": {
        "id": "iFF-KVSaZ22r"
      },
      "source": [
        "# Decision Boundary"
      ]
    },
    {
      "cell_type": "code",
      "metadata": {
        "id": "eGmg6Po9ZFjc"
      },
      "source": [
        "from matplotlib.colors import ListedColormap\n",
        "\n",
        "\n",
        "def plot_decision_regions(X, y, classifier, test_idx=None, resolution=0.02):\n",
        "\n",
        "    # setup marker generator and color map\n",
        "    markers = ('s', 'x', 'o', '^', 'v')\n",
        "    colors = ('red', 'blue', 'lightgreen', 'gray', 'cyan')\n",
        "    cmap = ListedColormap(colors[:len(np.unique(y))])\n",
        "\n",
        "    # plot the decision surface\n",
        "    x1_min, x1_max = X[:, 0].min() - 1, X[:, 0].max() + 1\n",
        "    x2_min, x2_max = X[:, 1].min() - 1, X[:, 1].max() + 1\n",
        "    xx1, xx2 = np.meshgrid(np.arange(x1_min, x1_max, resolution),\n",
        "                           np.arange(x2_min, x2_max, resolution))\n",
        "    Z = classifier.predict(np.array([xx1.ravel(), xx2.ravel()]).T)\n",
        "    Z = Z.reshape(xx1.shape)\n",
        "    plt.contourf(xx1, xx2, Z, alpha=0.3, cmap=cmap)\n",
        "    plt.xlim(xx1.min(), xx1.max())\n",
        "    plt.ylim(xx2.min(), xx2.max())\n",
        "\n",
        "    for idx, cl in enumerate(np.unique(y)):\n",
        "        plt.scatter(x=X[y == cl, 0], \n",
        "                    y=X[y == cl, 1],\n",
        "                    alpha=0.8, \n",
        "                    c=colors[idx],\n",
        "                    marker=markers[idx], \n",
        "                    label=cl, \n",
        "                    edgecolor='black')\n",
        "\n",
        "    # highlight test examples\n",
        "    if test_idx:\n",
        "        # plot all examples\n",
        "        X_test, y_test = X[test_idx, :], y[test_idx]\n",
        "\n",
        "        plt.scatter(X_test[:, 0],\n",
        "                    X_test[:, 1],\n",
        "                    c='',\n",
        "                    edgecolor='black',\n",
        "                    alpha=1.0,\n",
        "                    linewidth=1,\n",
        "                    marker='o',\n",
        "                    s=100, \n",
        "                    label='test set')"
      ],
      "execution_count": 13,
      "outputs": []
    },
    {
      "cell_type": "code",
      "metadata": {
        "colab": {
          "base_uri": "https://localhost:8080/",
          "height": 302
        },
        "id": "UwYTBNBxdFy_",
        "outputId": "99680b58-bce0-4a51-afb2-ebb825a3e0d0"
      },
      "source": [
        "X_combined_std=np.vstack((X_train_std,X_test_std))\n",
        "y_combined=np.hstack((y_train,y_test))\n",
        "plot_decision_regions(X=X_combined_std,y=y_combined,classifier=ppn,test_idx=range(105,150))\n",
        "plt.show()"
      ],
      "execution_count": 15,
      "outputs": [
        {
          "output_type": "stream",
          "text": [
            "/usr/local/lib/python3.6/dist-packages/ipykernel_launcher.py:44: MatplotlibDeprecationWarning: Using a string of single character colors as a color sequence is deprecated. Use an explicit list instead.\n"
          ],
          "name": "stderr"
        },
        {
          "output_type": "display_data",
          "data": {
            "image/png": "[encoded data removed]",
            "text/plain": [
              "<Figure size 432x288 with 1 Axes>"
            ]
          },
          "metadata": {
            "tags": [],
            "needs_background": "light"
          }
        }
      ]
    },
    {
      "cell_type": "code",
      "metadata": {
        "id": "KN3osP_5dj8I"
      },
      "source": [
        ""
      ],
      "execution_count": null,
      "outputs": []
    }
  ]
}