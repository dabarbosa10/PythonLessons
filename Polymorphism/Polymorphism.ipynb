{
 "cells": [
  {
   "cell_type": "code",
   "execution_count": 1,
   "metadata": {},
   "outputs": [],
   "source": [
    "class animal:\n",
    "    def actions(self):\n",
    "        return []\n",
    "    \n",
    "class dog(animal):\n",
    "    def actions(self):\n",
    "        return ['bark','eat','walk','breathe']\n",
    "    \n",
    "class bird(animal):\n",
    "    def actions(self):\n",
    "        return ['Fly','eat','breathe']"
   ]
  },
  {
   "cell_type": "code",
   "execution_count": 2,
   "metadata": {},
   "outputs": [],
   "source": [
    "b=bird()\n",
    "d=dog()"
   ]
  },
  {
   "cell_type": "code",
   "execution_count": 3,
   "metadata": {},
   "outputs": [
    {
     "name": "stdout",
     "output_type": "stream",
     "text": [
      "['Fly', 'eat', 'breathe']\n",
      "['bark', 'eat', 'walk', 'breathe']\n"
     ]
    }
   ],
   "source": [
    "def polymorphism(animal):\n",
    "    return animal.actions()\n",
    "\n",
    "print(polymorphism(b))\n",
    "print(polymorphism(d))"
   ]
  },
  {
   "cell_type": "code",
   "execution_count": null,
   "metadata": {},
   "outputs": [],
   "source": []
  }
 ],
 "metadata": {
  "kernelspec": {
   "display_name": "Python 3",
   "language": "python",
   "name": "python3"
  },
  "language_info": {
   "codemirror_mode": {
    "name": "ipython",
    "version": 3
   },
   "file_extension": ".py",
   "mimetype": "text/x-python",
   "name": "python",
   "nbconvert_exporter": "python",
   "pygments_lexer": "ipython3",
   "version": "3.7.6"
  }
 },
 "nbformat": 4,
 "nbformat_minor": 4
}
