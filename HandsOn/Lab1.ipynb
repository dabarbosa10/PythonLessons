{
 "cells": [
  {
   "cell_type": "code",
   "execution_count": 1,
   "metadata": {},
   "outputs": [
    {
     "name": "stdout",
     "output_type": "stream",
     "text": [
      "Animal: cat , color: black\n",
      "Animal: dog , color: gold\n",
      "Animal: duck , color: white\n",
      "Animal: Pigeon , color: Grey\n"
     ]
    }
   ],
   "source": [
    "#Zip\n",
    "l1=['cat','dog', 'duck', 'Pigeon']\n",
    "l2=['black','gold','white','Grey']\n",
    "\n",
    "for a, b in zip(l1,l2):\n",
    "    print('Animal:', a,', color:', b)"
   ]
  },
  {
   "cell_type": "code",
   "execution_count": 2,
   "metadata": {},
   "outputs": [
    {
     "name": "stdout",
     "output_type": "stream",
     "text": [
      "Lists position:  0  Animal: cat\n",
      "Lists position:  1  Animal: dog\n",
      "Lists position:  2  Animal: duck\n",
      "Lists position:  3  Animal: Pigeon\n"
     ]
    }
   ],
   "source": [
    "for i, j in enumerate(l1):\n",
    "    print(\"Lists position: \", i,\" Animal:\" , j)"
   ]
  },
  {
   "cell_type": "code",
   "execution_count": 3,
   "metadata": {},
   "outputs": [
    {
     "data": {
      "text/plain": [
       "[(1, -1), (1, 4), (2, 2), (3, 0), (3, 1)]"
      ]
     },
     "execution_count": 3,
     "metadata": {},
     "output_type": "execute_result"
    }
   ],
   "source": [
    "sorted([(3,1), (1,4), (3,0), (2,2), (1,-1)])"
   ]
  },
  {
   "cell_type": "code",
   "execution_count": 34,
   "metadata": {},
   "outputs": [],
   "source": [
    "#Double factorial\n",
    "\n",
    "def df(n):\n",
    "    if n%2==0:\n",
    "        b=1\n",
    "        for j in range(2, n+1,2):\n",
    "            b=b*j\n",
    "        return b\n",
    "    else:\n",
    "        a=1\n",
    "        for i in range(1, n+1, 2):\n",
    "            a=a*i\n",
    "        return a"
   ]
  },
  {
   "cell_type": "code",
   "execution_count": 35,
   "metadata": {},
   "outputs": [
    {
     "data": {
      "text/plain": [
       "15"
      ]
     },
     "execution_count": 35,
     "metadata": {},
     "output_type": "execute_result"
    }
   ],
   "source": [
    "df(5)"
   ]
  },
  {
   "cell_type": "code",
   "execution_count": 36,
   "metadata": {},
   "outputs": [
    {
     "data": {
      "text/plain": [
       "48"
      ]
     },
     "execution_count": 36,
     "metadata": {},
     "output_type": "execute_result"
    }
   ],
   "source": [
    "df(6)"
   ]
  },
  {
   "cell_type": "code",
   "execution_count": null,
   "metadata": {},
   "outputs": [],
   "source": []
  }
 ],
 "metadata": {
  "kernelspec": {
   "display_name": "Python 3",
   "language": "python",
   "name": "python3"
  },
  "language_info": {
   "codemirror_mode": {
    "name": "ipython",
    "version": 3
   },
   "file_extension": ".py",
   "mimetype": "text/x-python",
   "name": "python",
   "nbconvert_exporter": "python",
   "pygments_lexer": "ipython3",
   "version": "3.7.6"
  }
 },
 "nbformat": 4,
 "nbformat_minor": 4
}
