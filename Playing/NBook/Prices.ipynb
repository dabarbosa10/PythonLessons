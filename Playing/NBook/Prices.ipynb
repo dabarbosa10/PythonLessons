{
 "cells": [
  {
   "cell_type": "code",
   "execution_count": 1,
   "metadata": {},
   "outputs": [],
   "source": [
    "import numpy as np\n",
    "import csv\n",
    "from datetime import datetime\n",
    "import matplotlib.pyplot as plt\n",
    "%matplotlib inline"
   ]
  },
  {
   "cell_type": "code",
   "execution_count": 2,
   "metadata": {},
   "outputs": [],
   "source": [
    "file=open('AAPL.csv')"
   ]
  },
  {
   "cell_type": "code",
   "execution_count": 3,
   "metadata": {},
   "outputs": [],
   "source": [
    "csvreader=csv.reader(file)"
   ]
  },
  {
   "cell_type": "code",
   "execution_count": 5,
   "metadata": {},
   "outputs": [],
   "source": [
    "header=[]\n",
    "header=next(csvreader)"
   ]
  },
  {
   "cell_type": "code",
   "execution_count": 6,
   "metadata": {},
   "outputs": [
    {
     "data": {
      "text/plain": [
       "['Date', 'Open', 'High', 'Low', 'Close', 'Adj Close', 'Volume']"
      ]
     },
     "execution_count": 6,
     "metadata": {},
     "output_type": "execute_result"
    }
   ],
   "source": [
    "header"
   ]
  },
  {
   "cell_type": "code",
   "execution_count": 7,
   "metadata": {},
   "outputs": [],
   "source": [
    "rows=[]\n",
    "for row in csvreader:\n",
    "    rows.append(row)\n"
   ]
  },
  {
   "cell_type": "code",
   "execution_count": 9,
   "metadata": {},
   "outputs": [
    {
     "data": {
      "text/plain": [
       "['1987-11-01',\n",
       " '0.345982',\n",
       " '0.357143',\n",
       " '0.272321',\n",
       " '0.294643',\n",
       " '0.231594',\n",
       " '4234238400']"
      ]
     },
     "execution_count": 9,
     "metadata": {},
     "output_type": "execute_result"
    }
   ],
   "source": [
    "rows[0]"
   ]
  },
  {
   "cell_type": "code",
   "execution_count": 10,
   "metadata": {},
   "outputs": [],
   "source": [
    "import pandas as pd"
   ]
  },
  {
   "cell_type": "code",
   "execution_count": 11,
   "metadata": {},
   "outputs": [
    {
     "data": {
      "text/html": [
       "<div>\n",
       "<style scoped>\n",
       "    .dataframe tbody tr th:only-of-type {\n",
       "        vertical-align: middle;\n",
       "    }\n",
       "\n",
       "    .dataframe tbody tr th {\n",
       "        vertical-align: top;\n",
       "    }\n",
       "\n",
       "    .dataframe thead th {\n",
       "        text-align: right;\n",
       "    }\n",
       "</style>\n",
       "<table border=\"1\" class=\"dataframe\">\n",
       "  <thead>\n",
       "    <tr style=\"text-align: right;\">\n",
       "      <th></th>\n",
       "      <th>Date</th>\n",
       "      <th>Open</th>\n",
       "      <th>High</th>\n",
       "      <th>Low</th>\n",
       "      <th>Close</th>\n",
       "      <th>Adj Close</th>\n",
       "      <th>Volume</th>\n",
       "    </tr>\n",
       "  </thead>\n",
       "  <tbody>\n",
       "    <tr>\n",
       "      <th>0</th>\n",
       "      <td>1987-11-01</td>\n",
       "      <td>0.345982</td>\n",
       "      <td>0.357143</td>\n",
       "      <td>0.272321</td>\n",
       "      <td>0.294643</td>\n",
       "      <td>0.231594</td>\n",
       "      <td>4.234238e+09</td>\n",
       "    </tr>\n",
       "    <tr>\n",
       "      <th>1</th>\n",
       "      <td>1987-12-01</td>\n",
       "      <td>0.299107</td>\n",
       "      <td>0.390625</td>\n",
       "      <td>0.265625</td>\n",
       "      <td>0.375000</td>\n",
       "      <td>0.295398</td>\n",
       "      <td>4.702264e+09</td>\n",
       "    </tr>\n",
       "    <tr>\n",
       "      <th>2</th>\n",
       "      <td>1988-01-01</td>\n",
       "      <td>0.381696</td>\n",
       "      <td>0.412946</td>\n",
       "      <td>0.341518</td>\n",
       "      <td>0.370536</td>\n",
       "      <td>0.291882</td>\n",
       "      <td>6.221600e+09</td>\n",
       "    </tr>\n",
       "    <tr>\n",
       "      <th>3</th>\n",
       "      <td>1988-02-01</td>\n",
       "      <td>0.372768</td>\n",
       "      <td>0.390625</td>\n",
       "      <td>0.337054</td>\n",
       "      <td>0.383929</td>\n",
       "      <td>0.302432</td>\n",
       "      <td>3.368467e+09</td>\n",
       "    </tr>\n",
       "    <tr>\n",
       "      <th>4</th>\n",
       "      <td>1988-03-01</td>\n",
       "      <td>0.386161</td>\n",
       "      <td>0.426339</td>\n",
       "      <td>0.345982</td>\n",
       "      <td>0.357143</td>\n",
       "      <td>0.281887</td>\n",
       "      <td>4.882102e+09</td>\n",
       "    </tr>\n",
       "    <tr>\n",
       "      <th>...</th>\n",
       "      <td>...</td>\n",
       "      <td>...</td>\n",
       "      <td>...</td>\n",
       "      <td>...</td>\n",
       "      <td>...</td>\n",
       "      <td>...</td>\n",
       "      <td>...</td>\n",
       "    </tr>\n",
       "    <tr>\n",
       "      <th>404</th>\n",
       "      <td>2021-07-01</td>\n",
       "      <td>136.600006</td>\n",
       "      <td>150.000000</td>\n",
       "      <td>135.759995</td>\n",
       "      <td>145.860001</td>\n",
       "      <td>145.641785</td>\n",
       "      <td>1.918976e+09</td>\n",
       "    </tr>\n",
       "    <tr>\n",
       "      <th>405</th>\n",
       "      <td>2021-08-01</td>\n",
       "      <td>146.360001</td>\n",
       "      <td>153.490005</td>\n",
       "      <td>144.500000</td>\n",
       "      <td>151.830002</td>\n",
       "      <td>151.602859</td>\n",
       "      <td>1.460744e+09</td>\n",
       "    </tr>\n",
       "    <tr>\n",
       "      <th>406</th>\n",
       "      <td>2021-09-01</td>\n",
       "      <td>152.830002</td>\n",
       "      <td>157.259995</td>\n",
       "      <td>141.270004</td>\n",
       "      <td>141.500000</td>\n",
       "      <td>141.500000</td>\n",
       "      <td>1.797466e+09</td>\n",
       "    </tr>\n",
       "    <tr>\n",
       "      <th>407</th>\n",
       "      <td>2021-10-01</td>\n",
       "      <td>NaN</td>\n",
       "      <td>NaN</td>\n",
       "      <td>NaN</td>\n",
       "      <td>NaN</td>\n",
       "      <td>NaN</td>\n",
       "      <td>NaN</td>\n",
       "    </tr>\n",
       "    <tr>\n",
       "      <th>408</th>\n",
       "      <td>2021-10-01</td>\n",
       "      <td>141.899994</td>\n",
       "      <td>142.919998</td>\n",
       "      <td>139.110107</td>\n",
       "      <td>142.649994</td>\n",
       "      <td>142.649994</td>\n",
       "      <td>9.463958e+07</td>\n",
       "    </tr>\n",
       "  </tbody>\n",
       "</table>\n",
       "<p>409 rows × 7 columns</p>\n",
       "</div>"
      ],
      "text/plain": [
       "           Date        Open        High         Low       Close   Adj Close  \\\n",
       "0    1987-11-01    0.345982    0.357143    0.272321    0.294643    0.231594   \n",
       "1    1987-12-01    0.299107    0.390625    0.265625    0.375000    0.295398   \n",
       "2    1988-01-01    0.381696    0.412946    0.341518    0.370536    0.291882   \n",
       "3    1988-02-01    0.372768    0.390625    0.337054    0.383929    0.302432   \n",
       "4    1988-03-01    0.386161    0.426339    0.345982    0.357143    0.281887   \n",
       "..          ...         ...         ...         ...         ...         ...   \n",
       "404  2021-07-01  136.600006  150.000000  135.759995  145.860001  145.641785   \n",
       "405  2021-08-01  146.360001  153.490005  144.500000  151.830002  151.602859   \n",
       "406  2021-09-01  152.830002  157.259995  141.270004  141.500000  141.500000   \n",
       "407  2021-10-01         NaN         NaN         NaN         NaN         NaN   \n",
       "408  2021-10-01  141.899994  142.919998  139.110107  142.649994  142.649994   \n",
       "\n",
       "           Volume  \n",
       "0    4.234238e+09  \n",
       "1    4.702264e+09  \n",
       "2    6.221600e+09  \n",
       "3    3.368467e+09  \n",
       "4    4.882102e+09  \n",
       "..            ...  \n",
       "404  1.918976e+09  \n",
       "405  1.460744e+09  \n",
       "406  1.797466e+09  \n",
       "407           NaN  \n",
       "408  9.463958e+07  \n",
       "\n",
       "[409 rows x 7 columns]"
      ]
     },
     "execution_count": 11,
     "metadata": {},
     "output_type": "execute_result"
    }
   ],
   "source": [
    "data=pd.read_csv(\"AAPL.csv\")\n",
    "data"
   ]
  },
  {
   "cell_type": "code",
   "execution_count": 15,
   "metadata": {},
   "outputs": [],
   "source": [
    "logval=np.log(data['Open'])"
   ]
  },
  {
   "cell_type": "code",
   "execution_count": 19,
   "metadata": {},
   "outputs": [
    {
     "data": {
      "image/png": "[encoded data removed]",
      "text/plain": [
       "<Figure size 864x576 with 1 Axes>"
      ]
     },
     "metadata": {
      "needs_background": "light"
     },
     "output_type": "display_data"
    }
   ],
   "source": [
    "plt.figure(figsize=(12,8))\n",
    "plt.plot(data['Date'],logval,'r')\n",
    "plt.ylabel('Prices',fontsize=20)\n",
    "plt.xlabel('Year',fontsize=20)\n",
    "plt.grid()\n",
    "plt.savefig('Stockprices.pdf')"
   ]
  },
  {
   "cell_type": "code",
   "execution_count": null,
   "metadata": {},
   "outputs": [],
   "source": []
  }
 ],
 "metadata": {
  "kernelspec": {
   "display_name": "Python 3",
   "language": "python",
   "name": "python3"
  },
  "language_info": {
   "codemirror_mode": {
    "name": "ipython",
    "version": 3
   },
   "file_extension": ".py",
   "mimetype": "text/x-python",
   "name": "python",
   "nbconvert_exporter": "python",
   "pygments_lexer": "ipython3",
   "version": "3.7.6"
  }
 },
 "nbformat": 4,
 "nbformat_minor": 4
}
