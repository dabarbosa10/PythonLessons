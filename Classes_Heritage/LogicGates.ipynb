{
  "nbformat": 4,
  "nbformat_minor": 0,
  "metadata": {
    "colab": {
      "name": "LogicGates.ipynb",
      "provenance": []
    },
    "kernelspec": {
      "name": "python3",
      "display_name": "Python 3"
    }
  },
  "cells": [
    {
      "cell_type": "code",
      "metadata": {
        "id": "QNy5xJf1ZHvA"
      },
      "source": [
        "class LogicGate:\n",
        "  def __init__(self,n):\n",
        "    self.label=n\n",
        "    self.output=None\n",
        "\n",
        "  def getLabel(self):\n",
        "    return self.label\n",
        "\n",
        "  def getOutput(self):\n",
        "    self.output = self.performGateLogic()\n",
        "    return self.output\n"
      ],
      "execution_count": 1,
      "outputs": []
    },
    {
      "cell_type": "code",
      "metadata": {
        "id": "3M7cPPUVawRP"
      },
      "source": [
        "#BinaryGate Class will be a subclass of LogicGate\n",
        "class BinaryGate(LogicGate):\n",
        "  def __init__(self,n):\n",
        "    LogicGate.__init__(self,n)\n",
        "\n",
        "    self.pinA=None\n",
        "    self.pinB=None\n",
        "\n",
        "  def getPinA(self):\n",
        "    return int(input(\"Enter pin A input for gate\"+self.getLabel()+\"-->\"))\n",
        "    \n",
        "  def getPinB(self):\n",
        "    return int(input(\"Enter pin B input for gate\"+self.getLabel()+\"-->\"))"
      ],
      "execution_count": 2,
      "outputs": []
    },
    {
      "cell_type": "code",
      "metadata": {
        "id": "w9wDhOl7BfsT"
      },
      "source": [
        "class UnaryGate(LogicGate):\n",
        "  def __init__(self,n):\n",
        "    LogicGate.__init__(self,n)\n",
        "    self.pin=None\n",
        "\n",
        "  def getPin(self):\n",
        "    return int(input(\"Enter pin input for gate\"+self.getLabel()+\"-->\"))\n"
      ],
      "execution_count": 3,
      "outputs": []
    },
    {
      "cell_type": "code",
      "metadata": {
        "id": "IbpLOot0CEuZ"
      },
      "source": [
        "class AndGate(BinaryGate):\n",
        "  def __init__(self,n):\n",
        "    BinaryGate.__init__(self,n)\n",
        "\n",
        "  def performGateLogic(self):\n",
        "    a=self.getPinA()\n",
        "    b=self.getPinB()\n",
        "    if a==1 and b==1:\n",
        "      return 1\n",
        "    else:\n",
        "      return 0"
      ],
      "execution_count": 4,
      "outputs": []
    },
    {
      "cell_type": "code",
      "metadata": {
        "id": "tMB_5c_xD7LJ"
      },
      "source": [
        "g1=AndGate(\"G1\")"
      ],
      "execution_count": 5,
      "outputs": []
    },
    {
      "cell_type": "code",
      "metadata": {
        "colab": {
          "base_uri": "https://localhost:8080/"
        },
        "id": "XqxQqxplEBzc",
        "outputId": "df3a4e9c-873a-4bcb-d0b1-8c8c3d6093c5"
      },
      "source": [
        "g1.getOutput()"
      ],
      "execution_count": 6,
      "outputs": [
        {
          "output_type": "stream",
          "text": [
            "Enter pin A input for gateG1-->0\n",
            "Enter pin B input for gateG1-->1\n"
          ],
          "name": "stdout"
        },
        {
          "output_type": "execute_result",
          "data": {
            "text/plain": [
              "0"
            ]
          },
          "metadata": {
            "tags": []
          },
          "execution_count": 6
        }
      ]
    },
    {
      "cell_type": "code",
      "metadata": {
        "id": "cllk3KcSEErT"
      },
      "source": [
        "class OrGate(BinaryGate): \n",
        "  def __init__(self,n):\n",
        "    BinaryGate.__init__(self,n)\n",
        "\n",
        "  def performGateLogic(self):\n",
        "    a=self.getPinA()\n",
        "    b=self.getPinB()\n",
        "    if a==0 and b==0:\n",
        "      return 0\n",
        "    else:\n",
        "      return 1\n"
      ],
      "execution_count": 7,
      "outputs": []
    },
    {
      "cell_type": "code",
      "metadata": {
        "colab": {
          "base_uri": "https://localhost:8080/"
        },
        "id": "V8kRf-AGIBCu",
        "outputId": "bbe9a2d3-1c58-4f53-abe3-90f2baffc2cf"
      },
      "source": [
        "g2=OrGate(\"G2\")\n",
        "g2.getOutput()"
      ],
      "execution_count": 8,
      "outputs": [
        {
          "output_type": "stream",
          "text": [
            "Enter pin A input for gateG2-->0\n",
            "Enter pin B input for gateG2-->0\n"
          ],
          "name": "stdout"
        },
        {
          "output_type": "execute_result",
          "data": {
            "text/plain": [
              "0"
            ]
          },
          "metadata": {
            "tags": []
          },
          "execution_count": 8
        }
      ]
    },
    {
      "cell_type": "code",
      "metadata": {
        "id": "boPeYllBJHR5"
      },
      "source": [
        ""
      ],
      "execution_count": null,
      "outputs": []
    }
  ]
}