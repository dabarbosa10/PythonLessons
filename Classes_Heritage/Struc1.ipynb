{
  "nbformat": 4,
  "nbformat_minor": 0,
  "metadata": {
    "colab": {
      "name": "Struc1.ipynb",
      "provenance": []
    },
    "kernelspec": {
      "name": "python3",
      "display_name": "Python 3"
    }
  },
  "cells": [
    {
      "cell_type": "code",
      "metadata": {
        "id": "5ZA6714bcruj"
      },
      "source": [
        "class Fraction:\n",
        "  def __init__(self,top,bottom):\n",
        "    self.num=top\n",
        "    self.den=bottom\n",
        "\n",
        "  def show(self):\n",
        "    print(self.num,\"/\",self.den)\n",
        "\n",
        "  def __str__(self):\n",
        "    return str(self.num)+\"/\"+str(self.den)\n",
        "\n",
        "  def __add__(self,ofrac):\n",
        "    nnum=self.num*ofrac.den+ofrac.num*self.den\n",
        "    nden=self.den*ofrac.den\n",
        "\n",
        "    return Fraction(nnum,nden)"
      ],
      "execution_count": 1,
      "outputs": []
    },
    {
      "cell_type": "code",
      "metadata": {
        "id": "a2hXNvU_fC0N"
      },
      "source": [
        "f1=Fraction(1,4)\n",
        "f2=Fraction(1,2)"
      ],
      "execution_count": 2,
      "outputs": []
    },
    {
      "cell_type": "code",
      "metadata": {
        "colab": {
          "base_uri": "https://localhost:8080/"
        },
        "id": "vLmOZJynfJM4",
        "outputId": "27c89585-2560-4610-a38c-c77faccf7140"
      },
      "source": [
        "f3=f1+f2\n",
        "print(f3)"
      ],
      "execution_count": 3,
      "outputs": [
        {
          "output_type": "stream",
          "text": [
            "6/8\n"
          ],
          "name": "stdout"
        }
      ]
    },
    {
      "cell_type": "code",
      "metadata": {
        "colab": {
          "base_uri": "https://localhost:8080/"
        },
        "id": "6JcItLzqfNa1",
        "outputId": "6639458e-7047-449a-a9d0-cc583890794c"
      },
      "source": [
        "print(f1.__add__(f2))"
      ],
      "execution_count": 4,
      "outputs": [
        {
          "output_type": "stream",
          "text": [
            "6/8\n"
          ],
          "name": "stdout"
        }
      ]
    },
    {
      "cell_type": "code",
      "metadata": {
        "colab": {
          "base_uri": "https://localhost:8080/"
        },
        "id": "LuPGf-YqfR4v",
        "outputId": "b6aea994-2efb-4683-8abc-5f2c8c48f0c7"
      },
      "source": [
        "def gcd(m,n):\n",
        "  while m%n !=0:\n",
        "    oldm=m\n",
        "    oldn=n\n",
        "\n",
        "    m=oldn\n",
        "    n=oldm%oldn\n",
        "\n",
        "  return n\n",
        "\n",
        "print(gcd(20,10))"
      ],
      "execution_count": 5,
      "outputs": [
        {
          "output_type": "stream",
          "text": [
            "10\n"
          ],
          "name": "stdout"
        }
      ]
    },
    {
      "cell_type": "code",
      "metadata": {
        "id": "weXN8aghiHR_"
      },
      "source": [
        "class Fraction:\n",
        "  def __init__(self,top,bottom):\n",
        "    self.num=top\n",
        "    self.den=bottom\n",
        "\n",
        "  def show(self):\n",
        "    print(self.num,\"/\",self.den)\n",
        "\n",
        "  def __str__(self):\n",
        "    return str(self.num)+\"/\"+str(self.den)\n",
        "\n",
        "  def __add__(self,ofrac):\n",
        "    nnum=self.num*ofrac.den+ofrac.num*self.den\n",
        "    nden=self.den*ofrac.den\n",
        "    common=gcd(nnum,nden)\n",
        "    return Fraction(nnum//common,nden//common)"
      ],
      "execution_count": 7,
      "outputs": []
    },
    {
      "cell_type": "code",
      "metadata": {
        "id": "GiN-DbnelN2r"
      },
      "source": [
        "F1=Fraction(1,4)\n",
        "F2=Fraction(1,2)\n"
      ],
      "execution_count": 8,
      "outputs": []
    },
    {
      "cell_type": "code",
      "metadata": {
        "colab": {
          "base_uri": "https://localhost:8080/"
        },
        "id": "XxG0sgR9lWvK",
        "outputId": "23497850-a7bf-4a7d-d2f9-7e071adcdf15"
      },
      "source": [
        "F3=F1+F2\n",
        "print(F3)"
      ],
      "execution_count": 9,
      "outputs": [
        {
          "output_type": "stream",
          "text": [
            "3/4\n"
          ],
          "name": "stdout"
        }
      ]
    },
    {
      "cell_type": "code",
      "metadata": {
        "id": "h2EoXiTplaFM"
      },
      "source": [
        ""
      ],
      "execution_count": null,
      "outputs": []
    }
  ]
}