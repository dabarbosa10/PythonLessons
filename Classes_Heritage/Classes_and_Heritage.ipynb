{
 "cells": [
  {
   "cell_type": "code",
   "execution_count": 1,
   "metadata": {},
   "outputs": [],
   "source": [
    "import numpy as np\n",
    "import matplotlib.pyplot as plt\n",
    "%matplotlib inline"
   ]
  },
  {
   "cell_type": "code",
   "execution_count": 2,
   "metadata": {},
   "outputs": [],
   "source": [
    "class Trapezoidal:\n",
    "    \"\"\"\"The trapezoidal rule for integrals on [-1,1]\"\"\"\"\"\n",
    "    def __init__(self):\n",
    "        self.setup()\n",
    "        \n",
    "    def setup(self):\n",
    "        self.points=(-1,1)\n",
    "        self.weights=(1,1)\n",
    "    def eval(self,f):\n",
    "        sum=0.0\n",
    "        for i in range(len(self.points)):\n",
    "            sum+=self.weights[i]*f(self.points[i])\n",
    "            return sum\n"
   ]
  },
  {
   "cell_type": "code",
   "execution_count": 3,
   "metadata": {},
   "outputs": [],
   "source": [
    "rule=Trapezoidal()\n",
    "integral=rule.eval(lambda x: x**3)"
   ]
  },
  {
   "cell_type": "code",
   "execution_count": 4,
   "metadata": {},
   "outputs": [
    {
     "data": {
      "text/plain": [
       "-1.0"
      ]
     },
     "execution_count": 4,
     "metadata": {},
     "output_type": "execute_result"
    }
   ],
   "source": [
    "integral"
   ]
  },
  {
   "cell_type": "code",
   "execution_count": 5,
   "metadata": {},
   "outputs": [],
   "source": [
    "class Integrate:\n",
    "    def __init__(self):\n",
    "        self.setup()\n",
    "    def setup(self):\n",
    "        self.weights=None\n",
    "        self.points=None\n",
    "    def eval(self,f):\n",
    "        sum=0.0\n",
    "        for i in range(len(self.points)):\n",
    "            sum+=self.weights[i]*f(self.points[i])\n",
    "        return sum"
   ]
  },
  {
   "cell_type": "code",
   "execution_count": 6,
   "metadata": {},
   "outputs": [],
   "source": [
    "class Trapezoidal(Integrate):\n",
    "    def setup(self):\n",
    "        self.points=(-1,1)\n",
    "        self.weights=(1,1)\n",
    "class Simpson(Integrate):\n",
    "    def setup(self):\n",
    "        self.points=(-1,0,1)\n",
    "        self.weights=(1.0/3.0,4.0/3.0,1.0/3.0)\n",
    "class GaussLegendre2(Integrate):\n",
    "    def setup(self):\n",
    "        p=1/np.sqrt(3)\n",
    "        self.points(-p,p)\n",
    "        self.weights=(1,1)\n"
   ]
  },
  {
   "cell_type": "code",
   "execution_count": 7,
   "metadata": {},
   "outputs": [
    {
     "name": "stdout",
     "output_type": "stream",
     "text": [
      "0.5609806565385976\n"
     ]
    }
   ],
   "source": [
    "s=Simpson()\n",
    "v=s.eval(lambda x: np.sin(x)*x)\n",
    "print(v)"
   ]
  },
  {
   "cell_type": "markdown",
   "metadata": {},
   "source": [
    "### We can observe here that Simpson's class is a subclass of Integrate, it inherits a constructor from Integrate."
   ]
  },
  {
   "cell_type": "markdown",
   "metadata": {},
   "source": [
    "### Heritage"
   ]
  },
  {
   "cell_type": "markdown",
   "metadata": {},
   "source": [
    "Now Let's create another set of subclasses to understand better this property:"
   ]
  },
  {
   "cell_type": "code",
   "execution_count": null,
   "metadata": {},
   "outputs": [],
   "source": [
    "class building:\n",
    "    height=0\n",
    "    owner= \"\"\n",
    "    price= 0\n",
    "    location= \"\"\n",
    "    \n",
    "    def __init__(self,height, owner, price, location):\n",
    "        "
   ]
  }
 ],
 "metadata": {
  "kernelspec": {
   "display_name": "Python 3",
   "language": "python",
   "name": "python3"
  },
  "language_info": {
   "codemirror_mode": {
    "name": "ipython",
    "version": 3
   },
   "file_extension": ".py",
   "mimetype": "text/x-python",
   "name": "python",
   "nbconvert_exporter": "python",
   "pygments_lexer": "ipython3",
   "version": "3.7.6"
  }
 },
 "nbformat": 4,
 "nbformat_minor": 4
}
