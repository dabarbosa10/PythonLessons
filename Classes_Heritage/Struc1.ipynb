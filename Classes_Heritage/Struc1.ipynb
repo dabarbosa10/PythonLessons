{
  "nbformat": 4,
  "nbformat_minor": 0,
  "metadata": {
    "colab": {
      "name": "Struc1.ipynb",
      "provenance": []
    },
    "kernelspec": {
      "name": "python3",
      "display_name": "Python 3"
    }
  },
  "cells": [
    {
      "cell_type": "code",
      "metadata": {
        "id": "xtA6bzMMZNH6"
      },
      "source": [
        "class Fraction:\n",
        "  def __init__(self,top,bottom):\n",
        "    self.num=top\n",
        "    self.den=bottom\n",
        "\n",
        "  def show(self):\n",
        "    print(self.num,\"/\",self.den)\n"
      ],
      "execution_count": 3,
      "outputs": []
    },
    {
      "cell_type": "code",
      "metadata": {
        "colab": {
          "base_uri": "https://localhost:8080/"
        },
        "id": "p28MUbYib4py",
        "outputId": "7215140d-e4ad-4d0b-9be4-642433a517f8"
      },
      "source": [
        "myfrac=Fraction(3,5)\n",
        "myfrac.show()"
      ],
      "execution_count": 4,
      "outputs": [
        {
          "output_type": "stream",
          "text": [
            "3 / 5\n"
          ],
          "name": "stdout"
        }
      ]
    },
    {
      "cell_type": "code",
      "metadata": {
        "id": "NbmbRbq3cDv8"
      },
      "source": [
        "class Fraction:\n",
        "  def __init__(self,top,bottom):\n",
        "    self.num=top\n",
        "    self.den=bottom\n",
        "\n",
        "  def show(self):\n",
        "    print(self.num,\"/\",self.den)\n",
        "\n",
        "  def __str__(self):\n",
        "    return str(self.num)+\"/\"+str(self.den)"
      ],
      "execution_count": 5,
      "outputs": []
    },
    {
      "cell_type": "code",
      "metadata": {
        "colab": {
          "base_uri": "https://localhost:8080/",
          "height": 37
        },
        "id": "3-CwJyJncoly",
        "outputId": "2f7b53f2-2d5c-4c47-d3de-051e48dec137"
      },
      "source": [
        "myfrac=Fraction(3,5)\n",
        "myfrac.__str__()"
      ],
      "execution_count": 7,
      "outputs": [
        {
          "output_type": "execute_result",
          "data": {
            "application/vnd.google.colaboratory.intrinsic+json": {
              "type": "string"
            },
            "text/plain": [
              "'3/5'"
            ]
          },
          "metadata": {
            "tags": []
          },
          "execution_count": 7
        }
      ]
    },
    {
      "cell_type": "code",
      "metadata": {
        "id": "5ZA6714bcruj"
      },
      "source": [
        "class Fraction:\n",
        "  def __init__(self,top,bottom):\n",
        "    self.num=top\n",
        "    self.den=bottom\n",
        "\n",
        "  def show(self):\n",
        "    print(self.num,\"/\",self.den)\n",
        "\n",
        "  def __str__(self):\n",
        "    return str(self.num)+\"/\"+str(self.den)\n",
        "\n",
        "  def __add__(self,ofrac):\n",
        "    nnum=self.num*ofrac.den+ofrac.num*self.den\n",
        "    nden=self.den*ofrac.den\n",
        "\n",
        "    return Fraction(nnum,nden)"
      ],
      "execution_count": 8,
      "outputs": []
    },
    {
      "cell_type": "code",
      "metadata": {
        "id": "a2hXNvU_fC0N"
      },
      "source": [
        "f1=Fraction(1,4)\n",
        "f2=Fraction(1,2)"
      ],
      "execution_count": 9,
      "outputs": []
    },
    {
      "cell_type": "code",
      "metadata": {
        "colab": {
          "base_uri": "https://localhost:8080/"
        },
        "id": "vLmOZJynfJM4",
        "outputId": "c36a25f3-13e8-4d6d-925c-cc2bc8f55c62"
      },
      "source": [
        "f3=f1+f2\n",
        "print(f3)"
      ],
      "execution_count": 10,
      "outputs": [
        {
          "output_type": "stream",
          "text": [
            "6/8\n"
          ],
          "name": "stdout"
        }
      ]
    },
    {
      "cell_type": "code",
      "metadata": {
        "colab": {
          "base_uri": "https://localhost:8080/"
        },
        "id": "6JcItLzqfNa1",
        "outputId": "4b3b8212-b5ca-4c45-c512-a215d1021c80"
      },
      "source": [
        "print(f1.__add__(f2))"
      ],
      "execution_count": 13,
      "outputs": [
        {
          "output_type": "stream",
          "text": [
            "6/8\n"
          ],
          "name": "stdout"
        }
      ]
    },
    {
      "cell_type": "code",
      "metadata": {
        "id": "LuPGf-YqfR4v"
      },
      "source": [
        ""
      ],
      "execution_count": null,
      "outputs": []
    }
  ]
}