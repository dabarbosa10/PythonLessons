{
  "nbformat": 4,
  "nbformat_minor": 0,
  "metadata": {
    "colab": {
      "name": "XOR.ipynb",
      "provenance": []
    },
    "kernelspec": {
      "name": "python3",
      "display_name": "Python 3"
    }
  },
  "cells": [
    {
      "cell_type": "code",
      "metadata": {
        "id": "yk0ZIoCoN0cA"
      },
      "source": [
        "import matplotlib.pyplot as plt\n",
        "import numpy as np\n"
      ],
      "execution_count": 1,
      "outputs": []
    },
    {
      "cell_type": "code",
      "metadata": {
        "id": "qBt32p0TQzLw"
      },
      "source": [
        "np.random.seed(1)\n",
        "X_xor=np.random.randn(200,2)\n",
        "y_xor=np.logical_xor(X_xor[:,0]>0,X_xor[:,1]>0)"
      ],
      "execution_count": 2,
      "outputs": []
    },
    {
      "cell_type": "code",
      "metadata": {
        "id": "Mo3GIhNzRPuo"
      },
      "source": [
        "y_xor=np.where()"
      ],
      "execution_count": null,
      "outputs": []
    }
  ]
}