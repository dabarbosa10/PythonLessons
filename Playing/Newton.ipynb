{
 "cells": [
  {
   "cell_type": "code",
   "execution_count": 1,
   "metadata": {},
   "outputs": [],
   "source": [
    "import numpy as np\n",
    "import matplotlib.pyplot as plt\n",
    "%matplotlib inline"
   ]
  },
  {
   "cell_type": "code",
   "execution_count": 2,
   "metadata": {},
   "outputs": [],
   "source": [
    "def poly1(x):\n",
    "    return x**5 -3*x**4 +10*x-8\n",
    "def poly2(x):\n",
    "    return 5*x**4 -12*x**3+10"
   ]
  },
  {
   "cell_type": "code",
   "execution_count": 4,
   "metadata": {},
   "outputs": [
    {
     "name": "stdout",
     "output_type": "stream",
     "text": [
      "22 91\n"
     ]
    }
   ],
   "source": [
    "print(poly1(3),poly2(3))"
   ]
  },
  {
   "cell_type": "code",
   "execution_count": 22,
   "metadata": {},
   "outputs": [],
   "source": [
    "def Newton(x0,ite,eps_f,eps_x,eps_0):\n",
    "    xk=x0\n",
    "    fx=poly1(xk)\n",
    "    fpx=poly2(xk)\n",
    "    print('Iter',' xk', 'f(xk)', 'fprime(xk) ' )\n",
    "    for i in range(0,ite):\n",
    "        print(i, xk, fx, fpx)\n",
    "        if abs(fpx)<=eps_0:\n",
    "            print('Condition 1 satisfied')\n",
    "            break\n",
    "        delta=fx/fpx\n",
    "        xk=xk-delta\n",
    "        fx=poly1(xk)\n",
    "        fpx=poly2(xk)\n",
    "        if abs(fx)<=eps_f:\n",
    "            print('Condition 2 satisfied')\n",
    "            break\n",
    "        if abs(delta)/(1+abs(xk))<=eps_x:\n",
    "            print('Condition 3 satisfied')\n",
    "            break\n",
    "        "
   ]
  },
  {
   "cell_type": "code",
   "execution_count": 23,
   "metadata": {},
   "outputs": [
    {
     "name": "stdout",
     "output_type": "stream",
     "text": [
      "Iter  xk f(xk) fprime(xk) \n",
      "0 3 22 91\n",
      "1 2.758241758241758 5.589424960538004 47.58747909459254\n",
      "2 2.6407859680447703 0.9381330999921467 32.17179170494589\n",
      "3 2.611625854470868 0.04892142256772303 28.848274890905145\n",
      "4 2.609930036514587 0.0001590177947790039 28.660839698601194\n",
      "5 2.609924488254437 1.698310825304361e-09 28.660227503799575\n",
      "6 2.60992448819518 -3.552713678800501e-15 28.660227497261275\n",
      "Condition 3 satisfied\n"
     ]
    }
   ],
   "source": [
    "Newton(3, 10, 1e-16, 1e-16, 1e-16)"
   ]
  },
  {
   "cell_type": "code",
   "execution_count": null,
   "metadata": {},
   "outputs": [],
   "source": []
  }
 ],
 "metadata": {
  "kernelspec": {
   "display_name": "Python 3",
   "language": "python",
   "name": "python3"
  },
  "language_info": {
   "codemirror_mode": {
    "name": "ipython",
    "version": 3
   },
   "file_extension": ".py",
   "mimetype": "text/x-python",
   "name": "python",
   "nbconvert_exporter": "python",
   "pygments_lexer": "ipython3",
   "version": "3.7.6"
  }
 },
 "nbformat": 4,
 "nbformat_minor": 4
}
