{
 "cells": [
  {
   "cell_type": "code",
   "execution_count": 1,
   "metadata": {},
   "outputs": [],
   "source": [
    "#Strings, lists and tuples are all ordered sequences of items.\n",
    "list('Hallo')"
   ]
  },
  {
   "cell_type": "code",
   "execution_count": 2,
   "metadata": {},
   "outputs": [],
   "source": [
    "tuple([1, 'two', 3])"
   ]
  },
  {
   "cell_type": "code",
   "execution_count": 3,
   "metadata": {},
   "outputs": [],
   "source": [
    "num_list=['eins', 'zwei', 'drei', 'vier']\n",
    "for nummer in num_list:\n",
    "    print(nummer)"
   ]
  },
  {
   "cell_type": "code",
   "execution_count": 4,
   "metadata": {},
   "outputs": [],
   "source": [
    "for i in range(len(num_list)):\n",
    "    print(i)"
   ]
  },
  {
   "cell_type": "code",
   "execution_count": 5,
   "metadata": {},
   "outputs": [],
   "source": [
    "for nummer in num_list:\n",
    "    for brief in nummer:\n",
    "        print(brief, end='.')\n",
    "    print()"
   ]
  },
  {
   "cell_type": "code",
   "execution_count": 6,
   "metadata": {},
   "outputs": [],
   "source": [
    "n=100\n",
    "fib=[1,1]\n",
    "for i in range(2,n+1):\n",
    "    fib.append(fib[i-1]+fib[i-2])\n",
    "print(fib)"
   ]
  },
  {
   "cell_type": "code",
   "execution_count": 7,
   "metadata": {},
   "outputs": [],
   "source": [
    "fruits=['apple', 'pineaple', 'coconut']\n",
    "for i in range(len(fruits)):\n",
    "    print(i, ':', fruits[i])"
   ]
  },
  {
   "cell_type": "code",
   "execution_count": 8,
   "metadata": {},
   "outputs": [],
   "source": [
    "#The enumerate method takes and iterable object and produces a tuple(count, item)\n",
    "for i, fruit in enumerate(fruits):\n",
    "    print(i ,':', fruit)"
   ]
  },
  {
   "cell_type": "code",
   "execution_count": 9,
   "metadata": {},
   "outputs": [],
   "source": [
    "#Zip creates an iterator object.\n",
    "a=[1, 2, 3, 4]\n",
    "b=['eins', 'zwei', 'drei', 'vier']\n",
    "zip(a,b)"
   ]
  },
  {
   "cell_type": "code",
   "execution_count": 10,
   "metadata": {},
   "outputs": [],
   "source": [
    "for i in zip(a,b):\n",
    "    print(i)"
   ]
  },
  {
   "cell_type": "code",
   "execution_count": 11,
   "metadata": {},
   "outputs": [],
   "source": [
    "c=list(zip(a,b))\n",
    "print(c)"
   ]
  },
  {
   "cell_type": "code",
   "execution_count": 12,
   "metadata": {},
   "outputs": [],
   "source": [
    "c[0][0]"
   ]
  },
  {
   "cell_type": "code",
   "execution_count": 13,
   "metadata": {},
   "outputs": [],
   "source": [
    "c[0][1]"
   ]
  },
  {
   "cell_type": "code",
   "execution_count": 14,
   "metadata": {},
   "outputs": [],
   "source": [
    "P=[4, 5, 0, 2]\n",
    "dPdx=[]\n",
    "for i,c in enumerate(P[1:]):\n",
    "    print(i,': ',c)\n",
    "    dPdx.append(c*(i+1))"
   ]
  },
  {
   "cell_type": "code",
   "execution_count": 15,
   "metadata": {},
   "outputs": [
    {
     "name": "stdout",
     "output_type": "stream",
     "text": [
      "[5, 0, 6]\n"
     ]
    }
   ],
   "source": [
    "print(dPdx)"
   ]
  },
  {
   "cell_type": "code",
   "execution_count": 16,
   "metadata": {},
   "outputs": [
    {
     "name": "stdout",
     "output_type": "stream",
     "text": [
      "Coeff: 5  Power: 0   5 x^ 0\n",
      "Coeff: 0  Power: 1   0 x^ 1\n",
      "Coeff: 6  Power: 2   6 x^ 2\n"
     ]
    }
   ],
   "source": [
    "for pwr,coef in enumerate(dPdx):\n",
    "    print('Coeff:', coef, ' Power:', pwr, ' ', coef,'x^',pwr)"
   ]
  },
  {
   "cell_type": "markdown",
   "metadata": {},
   "source": [
    "### Calculate $\\pi$ from the first 20 terms of \n",
    "### the Madhava series"
   ]
  },
  {
   "cell_type": "markdown",
   "metadata": {},
   "source": [
    "$\\pi$ =$\\sqrt{12} \\left( 1- \\frac{1}{3.3}+\\frac{1}{5.3^2}-\\frac{7}{3.3^3}+...\\right)$"
   ]
  },
  {
   "cell_type": "code",
   "execution_count": 17,
   "metadata": {},
   "outputs": [
    {
     "name": "stdout",
     "output_type": "stream",
     "text": [
      "3.0792014356780038\n",
      "3.156181471569954\n",
      "3.1378528915956805\n",
      "3.1426047456630846\n",
      "3.141308785462883\n",
      "3.1416743126988376\n",
      "3.141568715941784\n",
      "3.141599773811506\n",
      "3.1415905109380797\n",
      "3.1415933045030813\n",
      "3.1415924542876463\n",
      "3.14159271502038\n",
      "3.141592634547314\n",
      "3.141592659521714\n",
      "3.1415926517339976\n",
      "3.1415926541725754\n",
      "3.141592653406165\n",
      "3.1415926536478262\n",
      "3.1415926535714034\n",
      "3.141592653595635\n",
      "3.1415926535879337\n",
      "3.1415926535903864\n",
      "3.1415926535896035\n",
      "3.141592653589854\n",
      "3.141592653589774\n",
      "3.1415926535897998\n",
      "3.1415926535897913\n",
      "3.141592653589794\n",
      "3.1415926535897936\n",
      "3.141592653589794\n",
      "3.141592653589794\n",
      "3.141592653589794\n",
      "3.141592653589794\n",
      "3.141592653589794\n",
      "3.141592653589794\n",
      "3.141592653589794\n",
      "3.141592653589794\n",
      "3.141592653589794\n",
      "3.141592653589794\n",
      "3.141592653589794\n",
      "3.141592653589794\n",
      "3.141592653589794\n",
      "3.141592653589794\n",
      "3.141592653589794\n",
      "3.141592653589794\n",
      "3.141592653589794\n",
      "3.141592653589794\n",
      "3.141592653589794\n",
      "3.141592653589794\n",
      "3.141592653589794\n"
     ]
    }
   ],
   "source": [
    "import math\n",
    "sm=1\n",
    "count=0\n",
    "l=[]\n",
    "for i in range(1,51):\n",
    "    count=(-1)**i\n",
    "    n=2*i+1\n",
    "    sm=sm+count*(1/(n*(3**i)))\n",
    "    l.append(math.sqrt(12)*sm)\n",
    "    print(math.sqrt(12)*sm)"
   ]
  },
  {
   "cell_type": "code",
   "execution_count": 18,
   "metadata": {},
   "outputs": [],
   "source": [
    "import matplotlib.pyplot as plt\n",
    "%matplotlib inline"
   ]
  },
  {
   "cell_type": "code",
   "execution_count": 22,
   "metadata": {},
   "outputs": [
    {
     "data": {
      "text/plain": [
       "Text(0, 0.5, 'value')"
      ]
     },
     "execution_count": 22,
     "metadata": {},
     "output_type": "execute_result"
    },
    {
     "data": {
      "image/png": "[encoded data removed]",
      "text/plain": [
       "<Figure size 432x288 with 1 Axes>"
      ]
     },
     "metadata": {
      "needs_background": "light"
     },
     "output_type": "display_data"
    }
   ],
   "source": [
    "plt.plot(l,'r*')\n",
    "plt.xlabel('iterations')\n",
    "plt.ylabel('value')"
   ]
  },
  {
   "cell_type": "code",
   "execution_count": 25,
   "metadata": {},
   "outputs": [
    {
     "data": {
      "text/plain": [
       "8.881784197001252e-16"
      ]
     },
     "execution_count": 25,
     "metadata": {},
     "output_type": "execute_result"
    }
   ],
   "source": [
    "abs(math.pi-l[-1])"
   ]
  },
  {
   "cell_type": "code",
   "execution_count": 26,
   "metadata": {},
   "outputs": [
    {
     "name": "stdout",
     "output_type": "stream",
     "text": [
      "0   3.0792014356780038\n",
      "1   3.156181471569954\n",
      "2   3.1378528915956805\n",
      "3   3.1426047456630846\n",
      "4   3.141308785462883\n",
      "5   3.1416743126988376\n",
      "6   3.141568715941784\n",
      "7   3.141599773811506\n",
      "8   3.1415905109380797\n",
      "9   3.1415933045030813\n",
      "10   3.1415924542876463\n",
      "11   3.14159271502038\n",
      "12   3.141592634547314\n",
      "13   3.141592659521714\n",
      "14   3.1415926517339976\n",
      "15   3.1415926541725754\n",
      "16   3.141592653406165\n",
      "17   3.1415926536478262\n",
      "18   3.1415926535714034\n",
      "19   3.141592653595635\n",
      "20   3.1415926535879337\n",
      "21   3.1415926535903864\n",
      "22   3.1415926535896035\n",
      "23   3.141592653589854\n",
      "24   3.141592653589774\n",
      "25   3.1415926535897998\n",
      "26   3.1415926535897913\n",
      "27   3.141592653589794\n",
      "28   3.1415926535897936\n",
      "29   3.141592653589794\n",
      "30   3.141592653589794\n",
      "31   3.141592653589794\n",
      "32   3.141592653589794\n",
      "33   3.141592653589794\n",
      "34   3.141592653589794\n",
      "35   3.141592653589794\n",
      "36   3.141592653589794\n",
      "37   3.141592653589794\n",
      "38   3.141592653589794\n",
      "39   3.141592653589794\n",
      "40   3.141592653589794\n",
      "41   3.141592653589794\n",
      "42   3.141592653589794\n",
      "43   3.141592653589794\n",
      "44   3.141592653589794\n",
      "45   3.141592653589794\n",
      "46   3.141592653589794\n",
      "47   3.141592653589794\n",
      "48   3.141592653589794\n",
      "49   3.141592653589794\n"
     ]
    }
   ],
   "source": [
    "for val,en in enumerate(l):\n",
    "    print(val, ' ', en)"
   ]
  },
  {
   "cell_type": "code",
   "execution_count": null,
   "metadata": {},
   "outputs": [],
   "source": []
  }
 ],
 "metadata": {
  "kernelspec": {
   "display_name": "Python 3",
   "language": "python",
   "name": "python3"
  },
  "language_info": {
   "codemirror_mode": {
    "name": "ipython",
    "version": 3
   },
   "file_extension": ".py",
   "mimetype": "text/x-python",
   "name": "python",
   "nbconvert_exporter": "python",
   "pygments_lexer": "ipython3",
   "version": "3.7.6"
  }
 },
 "nbformat": 4,
 "nbformat_minor": 4
}
