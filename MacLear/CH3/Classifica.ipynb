{
  "nbformat": 4,
  "nbformat_minor": 0,
  "metadata": {
    "colab": {
      "name": "Classifica.ipynb",
      "provenance": []
    },
    "kernelspec": {
      "name": "python3",
      "display_name": "Python 3"
    }
  },
  "cells": [
    {
      "cell_type": "code",
      "metadata": {
        "id": "ZNP1YGzhPpoB"
      },
      "source": [
        "import numpy as np\n",
        "import matplotlib.pyplot as plt\n",
        "%matplotlib inline"
      ],
      "execution_count": 2,
      "outputs": []
    },
    {
      "cell_type": "markdown",
      "metadata": {
        "id": "j3OqWFzmQQ0e"
      },
      "source": [
        "### Classification Algorithm \n",
        "<br>\n",
        "<br>\n",
        "No free lunch theorem: no single classifier works best acrros all possible scenarios. \n",
        "<br>\n",
        "You should compare the performance of different algorithms"
      ]
    },
    {
      "cell_type": "code",
      "metadata": {
        "id": "VqYSHTScQOHc"
      },
      "source": [
        ""
      ],
      "execution_count": null,
      "outputs": []
    },
    {
      "cell_type": "markdown",
      "metadata": {
        "id": "4ys5W0fGRsQq"
      },
      "source": [
        "### Perceptron ScikitLearn"
      ]
    },
    {
      "cell_type": "code",
      "metadata": {
        "id": "q4tMkPfMRzJJ"
      },
      "source": [
        "from sklearn import datasets\n",
        "iris=datasets.load_iris()\n",
        "X=iris.data[:,[2,3]] #Select columns 3 and 4\n",
        "y=iris.target"
      ],
      "execution_count": 3,
      "outputs": []
    },
    {
      "cell_type": "code",
      "metadata": {
        "colab": {
          "base_uri": "https://localhost:8080/"
        },
        "id": "I-Aqvo3BSFWY",
        "outputId": "06a6b597-cf50-4e7c-937d-250626809a2a"
      },
      "source": [
        "print('Class labels:', np.unique(y))"
      ],
      "execution_count": 4,
      "outputs": [
        {
          "output_type": "stream",
          "text": [
            "Class labels: [0 1 2]\n"
          ],
          "name": "stdout"
        }
      ]
    },
    {
      "cell_type": "code",
      "metadata": {
        "id": "3uAG7-aKSPHU"
      },
      "source": [
        ""
      ],
      "execution_count": null,
      "outputs": []
    }
  ]
}