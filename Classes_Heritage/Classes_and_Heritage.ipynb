{
 "cells": [
  {
   "cell_type": "code",
   "execution_count": 1,
   "metadata": {},
   "outputs": [],
   "source": [
    "import numpy as np\n",
    "import matplotlib.pyplot as plt\n",
    "%matplotlib inline"
   ]
  },
  {
   "cell_type": "code",
   "execution_count": 2,
   "metadata": {},
   "outputs": [],
   "source": [
    "class Trapezoidal:\n",
    "    \"\"\"\"The trapezoidal rule for integrals on [-1,1]\"\"\"\"\"\n",
    "    def __init__(self):\n",
    "        self.setup()\n",
    "        \n",
    "    def setup(self):\n",
    "        self.points=(-1,1)\n",
    "        self.weights=(1,1)\n",
    "    def eval(self,f):\n",
    "        sum=0.0\n",
    "        for i in range(len(self.points)):\n",
    "            sum+=self.weights[i]*f(self.points[i])\n",
    "            return sum\n"
   ]
  },
  {
   "cell_type": "code",
   "execution_count": 3,
   "metadata": {},
   "outputs": [],
   "source": [
    "rule=Trapezoidal()\n",
    "integral=rule.eval(lambda x: x**3)"
   ]
  },
  {
   "cell_type": "code",
   "execution_count": 4,
   "metadata": {},
   "outputs": [
    {
     "data": {
      "text/plain": [
       "-1.0"
      ]
     },
     "execution_count": 4,
     "metadata": {},
     "output_type": "execute_result"
    }
   ],
   "source": [
    "integral"
   ]
  },
  {
   "cell_type": "code",
   "execution_count": 5,
   "metadata": {},
   "outputs": [],
   "source": [
    "class Integrate:\n",
    "    def __init__(self):\n",
    "        self.setup()\n",
    "    def setup(self):\n",
    "        self.weights=None\n",
    "        self.points=None\n",
    "    def eval(self,f):\n",
    "        sum=0.0\n",
    "        for i in range(len(self.points)):\n",
    "            sum+=self.weights[i]*f(self.points[i])\n",
    "        return sum"
   ]
  },
  {
   "cell_type": "code",
   "execution_count": 6,
   "metadata": {},
   "outputs": [],
   "source": [
    "class Trapezoidal(Integrate):\n",
    "    def setup(self):\n",
    "        self.points=(-1,1)\n",
    "        self.weights=(1,1)\n",
    "class Simpson(Integrate):\n",
    "    def setup(self):\n",
    "        self.points=(-1,0,1)\n",
    "        self.weights=(1.0/3.0,4.0/3.0,1.0/3.0)\n",
    "class GaussLegendre2(Integrate):\n",
    "    def setup(self):\n",
    "        p=1/np.sqrt(3)\n",
    "        self.points(-p,p)\n",
    "        self.weights=(1,1)\n"
   ]
  },
  {
   "cell_type": "code",
   "execution_count": 7,
   "metadata": {},
   "outputs": [
    {
     "name": "stdout",
     "output_type": "stream",
     "text": [
      "0.5609806565385976\n"
     ]
    }
   ],
   "source": [
    "s=Simpson()\n",
    "v=s.eval(lambda x: np.sin(x)*x)\n",
    "print(v)"
   ]
  },
  {
   "cell_type": "markdown",
   "metadata": {},
   "source": [
    "### We can observe here that Simpson's class is a subclass of Integrate, it inherits a constructor from Integrate."
   ]
  },
  {
   "cell_type": "markdown",
   "metadata": {},
   "source": [
    "### Heritage"
   ]
  },
  {
   "cell_type": "markdown",
   "metadata": {},
   "source": [
    "Now Let's create another set of subclasses to understand better this property:"
   ]
  },
  {
   "cell_type": "code",
   "execution_count": 8,
   "metadata": {},
   "outputs": [],
   "source": [
    "class building:\n",
    "    height=0\n",
    "    owner= \"\"\n",
    "    price= 0\n",
    "    location= \"\"\n",
    "    \n",
    "    def __init__(self,height, owner, price, location):\n",
    "        self.height=height\n",
    "        self.owner=owner\n",
    "        self.price=price\n",
    "        self.location=location\n",
    "    \n",
    "    def givesheight(self):\n",
    "        return self.height\n",
    "    \n",
    "    def definesheight(self,height):\n",
    "        self.height=height\n",
    "    \n",
    "    def givesowner(self):\n",
    "        return self.owner\n",
    "    \n",
    "    def definesowner(self,owner):\n",
    "        self.owner=owner\n",
    "        \n",
    "    def givesprice(self):\n",
    "        return self.price\n",
    "    \n",
    "    def definesprice(self,price):\n",
    "        self.price=price\n",
    "        \n",
    "    def giveslocation(self):\n",
    "        return self.location\n",
    "    \n",
    "    def defineslocation(self,location):\n",
    "        self.location=location"
   ]
  },
  {
   "cell_type": "code",
   "execution_count": 9,
   "metadata": {},
   "outputs": [],
   "source": [
    "class house(building):\n",
    "    rooms=0\n",
    "    def __init__(self, height, owner, price, location,habitant):\n",
    "        super().definesheight(height)\n",
    "        super().definesowner(owner)\n",
    "        super().definesprice(price)\n",
    "        super().defineslocation(location)\n",
    "        self.habitant=habitant\n",
    "        \n",
    "    def giveshabitant(self):\n",
    "        return self.habitant\n",
    "\n",
    "class comercial(building):\n",
    "    comercial_area=[]\n",
    "    def __init__(self, height, owner, price, location,comercial_area):\n",
    "        super().definesheight(height)\n",
    "        super().definesowner(owner)\n",
    "        super().definesprice(price)\n",
    "        super().defineslocation(location)\n",
    "        self.comercial_area=comercial_area\n",
    "        \n",
    "    def givesarea(self):\n",
    "        return self.comercial_area\n",
    "    \n",
    "class government(building):\n",
    "    security_level=[]\n",
    "    def __init__(self, height, owner, price, location,security_level):\n",
    "        super().definesheight(height)\n",
    "        super().definesowner(owner)\n",
    "        super().definesprice(price)\n",
    "        super().defineslocation(location)\n",
    "        self.security_level=security_level\n",
    "        \n",
    "    def givessecurity(self):\n",
    "        return self.security_level\n",
    "    "
   ]
  },
  {
   "cell_type": "code",
   "execution_count": 10,
   "metadata": {},
   "outputs": [],
   "source": [
    "c=comercial(3,\"Annie\",1000,\"Bogota, Colombia\",[\"Grocery\",\"Movies \"])"
   ]
  },
  {
   "cell_type": "code",
   "execution_count": 12,
   "metadata": {},
   "outputs": [
    {
     "name": "stdout",
     "output_type": "stream",
     "text": [
      "Height: 3\n",
      "Price: 1000\n",
      "Owner: Annie\n",
      "Areas: ['Grocery', 'Movies ']\n"
     ]
    }
   ],
   "source": [
    "print(\"Height:\", c.givesheight())\n",
    "print(\"Price:\",c.givesprice())\n",
    "print(\"Owner:\",c.givesowner())\n",
    "print(\"Areas:\",c.givesarea())"
   ]
  },
  {
   "cell_type": "code",
   "execution_count": 16,
   "metadata": {},
   "outputs": [],
   "source": [
    "#Class Movie:\n",
    "\n",
    "class movie:\n",
    "    long=0\n",
    "    title= \" \"\n",
    "    \n",
    "    def givestitle(self):\n",
    "        return self.title\n",
    "    def definetitle(self,title):\n",
    "        self.title=title\n",
    "    def givesduration(self):\n",
    "        return self.long\n",
    "    def defineduration(self,long):\n",
    "        self.long=long\n",
    "\n",
    "class drama(movie):\n",
    "    dramarank=0\n",
    "    \n",
    "    def givesdramarank(self):\n",
    "        return self.dramarank\n",
    "    def definedramarank(self,dramarank):\n",
    "        self.dramarank=dramarank\n",
    "\n",
    "class west(movie):\n",
    "    hitman=0\n",
    "    \n",
    "    def giveshitman(self):\n",
    "        return self.hitman\n",
    "    def definehitman(self,hitman):\n",
    "        self.hitman=hitman\n",
    "\n",
    "class unforgivable(west,drama):\n",
    "    pass\n",
    "\n",
    "        "
   ]
  },
  {
   "cell_type": "code",
   "execution_count": 17,
   "metadata": {},
   "outputs": [],
   "source": [
    "l=unforgivable()\n",
    "l.definedramarank(2)\n",
    "l.defineduration(129)\n",
    "l.definetitle(\"Unforgivable\")\n",
    "l.definehitman(2)"
   ]
  },
  {
   "cell_type": "code",
   "execution_count": 18,
   "metadata": {},
   "outputs": [
    {
     "name": "stdout",
     "output_type": "stream",
     "text": [
      "Rank: 2\n",
      "Duration 129\n",
      "Title Unforgivable\n",
      "Hitman 2\n"
     ]
    }
   ],
   "source": [
    "print(\"Rank:\",l.givesdramarank())\n",
    "print(\"Duration\",l.givesduration())\n",
    "print(\"Title\", l.givestitle())\n",
    "print(\"Hitman\", l.giveshitman())"
   ]
  },
  {
   "cell_type": "code",
   "execution_count": null,
   "metadata": {},
   "outputs": [],
   "source": []
  }
 ],
 "metadata": {
  "kernelspec": {
   "display_name": "Python 3",
   "language": "python",
   "name": "python3"
  },
  "language_info": {
   "codemirror_mode": {
    "name": "ipython",
    "version": 3
   },
   "file_extension": ".py",
   "mimetype": "text/x-python",
   "name": "python",
   "nbconvert_exporter": "python",
   "pygments_lexer": "ipython3",
   "version": "3.7.6"
  }
 },
 "nbformat": 4,
 "nbformat_minor": 4
}
