{
 "cells": [
  {
   "cell_type": "markdown",
   "metadata": {},
   "source": [
    "### Every true traveler must know how to do 3 things: fix the fire, find the water and extract useful information from the nature around him. Programming won't help you with the fire and water, but when it comes to the information extraction - it might be just the thing you need.\n",
    "\n",
    "### Your task is to find the angle of the sun above the horizon knowing the time of the day. Input data: the sun rises in the East at 6:00 AM, which corresponds to the angle of 0 degrees. At 12:00 PM the sun reaches its zenith, which means that the angle equals 90 degrees. 6:00 PM is the time of the sunset so the angle is 180 degrees. If the input will be the time of the night (before 6:00 AM or after 6:00 PM), your function should return - \"I don't see the sun!\"."
   ]
  },
  {
   "cell_type": "code",
   "execution_count": 1,
   "metadata": {},
   "outputs": [],
   "source": [
    "def sun_angle(time:str):\n",
    "    time=time.split(':')\n",
    "    GR=180/(12*60*60)\n",
    "    if 6<=int(time[0])<=17:\n",
    "        h=int(time[0])-6\n",
    "        A=(h*60*60)+(int(time[1]))*60\n",
    "        return GR*A\n",
    "    if int(time[0])==18 and time[1]=='00':\n",
    "        return 180\n",
    "    else:\n",
    "        return \"I don't see the sun!\""
   ]
  },
  {
   "cell_type": "markdown",
   "metadata": {},
   "source": [
    "### One of the robots is charged with a simple task: to join a sequence of strings into one sentence to produce instructions on how to get around the ship. But this robot is left-handed and has a tendency to joke around and confuse its right-handed friends.\n",
    "\n",
    "### You are given a sequence of strings. You should join these strings into a chunk of text where the initial strings are separated by commas. As a joke on the right handed robots, you should replace all cases of the words \"right\" with the word \"left\", even if it's a part of another word. All strings are given in lowercase."
   ]
  },
  {
   "cell_type": "code",
   "execution_count": 2,
   "metadata": {},
   "outputs": [],
   "source": [
    "def change(text:tuple):\n",
    "    text=list(text)\n",
    "    a=[]\n",
    "    for i in range(len(text)):\n",
    "        if 'right' not in text[i]:\n",
    "            a.append(text[i])\n",
    "        if 'right' in text[i]:\n",
    "            b=text[i].replace('right', 'left')\n",
    "            a.append(b)\n",
    "    return \",\".join(a)"
   ]
  },
  {
   "cell_type": "code",
   "execution_count": null,
   "metadata": {},
   "outputs": [],
   "source": []
  }
 ],
 "metadata": {
  "kernelspec": {
   "display_name": "Python 3",
   "language": "python",
   "name": "python3"
  },
  "language_info": {
   "codemirror_mode": {
    "name": "ipython",
    "version": 3
   },
   "file_extension": ".py",
   "mimetype": "text/x-python",
   "name": "python",
   "nbconvert_exporter": "python",
   "pygments_lexer": "ipython3",
   "version": "3.7.6"
  }
 },
 "nbformat": 4,
 "nbformat_minor": 4
}
