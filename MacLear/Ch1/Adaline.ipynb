{
  "nbformat": 4,
  "nbformat_minor": 0,
  "metadata": {
    "colab": {
      "name": "Adaline.ipynb",
      "provenance": []
    },
    "kernelspec": {
      "name": "python3",
      "display_name": "Python 3"
    }
  },
  "cells": [
    {
      "cell_type": "code",
      "metadata": {
        "id": "hKg84fvlc-qK"
      },
      "source": [
        "import numpy as np\n",
        "#AdalineGD\n",
        "class Adaline(object):\n",
        "\n",
        "  def __init__(self,eta=0.01,n_iter=50,rs=1):\n",
        "    self.eta=eta\n",
        "    self.n_iter=n_iter\n",
        "    self.rs=rs\n",
        "\n",
        "  def fit(self,X,y):\n",
        "    rgen=np.random.RandomState(self.rs)\n",
        "    self.w_=rgen.normal(loc=0.9,scale=0.01,size=1+(X.shape[1]-1))\n",
        "    self.cost_=[]\n",
        "    \n",
        "    for i in range(self.n_iter):\n",
        "      net_input=self.net_input(X)\n",
        "      output=self.activation(net_input)\n",
        "      errors=(y-output)\n",
        "      self.w_=self.eta*X.T.dot(errors)\n",
        "      cost=(errors**2).sum()/2.0\n",
        "      self.cost_.append(cost)\n",
        "    return self\n",
        "\n",
        "  def net_input(self,X):\n",
        "    return np.dot(X,self.w_)\n",
        "    \n",
        "  def activation(self,X):\n",
        "    return X\n",
        "\n",
        "  def predict(self,X):\n",
        "    return np.where(self.activation(self.net_input(X))>=0.0,1,-1)\n"
      ],
      "execution_count": 1,
      "outputs": []
    },
    {
      "cell_type": "code",
      "metadata": {
        "id": "5DoOvEFPA1Xf"
      },
      "source": [
        "import matplotlib.pyplot as plt\n",
        "%matplotlib inline\n",
        "from sklearn.datasets import load_iris\n",
        "data=load_iris()"
      ],
      "execution_count": 2,
      "outputs": []
    },
    {
      "cell_type": "code",
      "metadata": {
        "id": "yfYstWsKFTnQ"
      },
      "source": [
        "datanp=np.array(data.data)\n",
        "datatar=np.array([data.target])\n",
        "Datacompl=np.concatenate((datanp,datatar.T),axis=-1)\n",
        "indSetosa=np.where(Datacompl[:,-1]==0)[0]\n",
        "indVersicolor=np.where(Datacompl[:,-1]==1)[0]\n",
        "indVirginica=np.where(Datacompl[:,-1]==2)[0]\n",
        "DataSetosa=Datacompl[indSetosa]\n",
        "DataVersicolor=Datacompl[indVersicolor]\n",
        "DataVersicolor[:,4]=-1\n",
        "target=np.concatenate((DataSetosa[:,4],DataVersicolor[:,4]))\n",
        "target[target==0]=1"
      ],
      "execution_count": 3,
      "outputs": []
    },
    {
      "cell_type": "code",
      "metadata": {
        "id": "hqM7GWciFeow"
      },
      "source": [
        "Features=np.concatenate((DataSetosa[:,(0,2)],DataVersicolor[:,(0,2)]))\n",
        "FeaturesBias=np.concatenate((np.ones((Features.shape[0],1)),Features),axis=-1)\n",
        "from sklearn.model_selection import train_test_split\n",
        "X_train, X_test, y_train, y_test = train_test_split(FeaturesBias, target, test_size=0.33, random_state=42)"
      ],
      "execution_count": 4,
      "outputs": []
    },
    {
      "cell_type": "code",
      "metadata": {
        "colab": {
          "base_uri": "https://localhost:8080/",
          "height": 295
        },
        "id": "Hev2TlAfFosV",
        "outputId": "ada09d59-6c52-46f0-db51-919e0c42ba6a"
      },
      "source": [
        "fig, ax = plt.subplots(nrows=1, ncols=2, figsize=(10, 4))\n",
        "\n",
        "ada1 = Adaline(n_iter=10, eta=0.01).fit(X_train, y_train)\n",
        "ax[0].plot(range(1, len(ada1.cost_) + 1), np.log10(ada1.cost_), marker='o')\n",
        "ax[0].set_xlabel('Epochs')\n",
        "ax[0].set_ylabel('log(Sum-squared-error)')\n",
        "ax[0].set_title('Adaline - Learning rate 0.01')\n",
        "\n",
        "ada2 = Adaline(n_iter=10, eta=0.0001).fit(X_train, y_train)\n",
        "ax[1].plot(range(1, len(ada2.cost_) + 1), ada2.cost_, marker='o')\n",
        "ax[1].set_xlabel('Epochs')\n",
        "ax[1].set_ylabel('Sum-squared-error')\n",
        "ax[1].set_title('Adaline - Learning rate 0.0001')\n",
        "\n",
        "plt.show()"
      ],
      "execution_count": 5,
      "outputs": [
        {
          "output_type": "display_data",
          "data": {
            "image/png": "[encoded data removed]",
            "text/plain": [
              "<Figure size 720x288 with 2 Axes>"
            ]
          },
          "metadata": {
            "tags": [],
            "needs_background": "light"
          }
        }
      ]
    },
    {
      "cell_type": "code",
      "metadata": {
        "id": "VjjLyNoIFwpN"
      },
      "source": [
        ""
      ],
      "execution_count": 5,
      "outputs": []
    }
  ]
}