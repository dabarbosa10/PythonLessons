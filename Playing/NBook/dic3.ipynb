{
 "cells": [
  {
   "cell_type": "code",
   "execution_count": 1,
   "metadata": {},
   "outputs": [],
   "source": [
    "infile=open('densities.txt','r')"
   ]
  },
  {
   "cell_type": "code",
   "execution_count": 2,
   "metadata": {},
   "outputs": [],
   "source": [
    "text=infile.read()"
   ]
  },
  {
   "cell_type": "code",
   "execution_count": 3,
   "metadata": {},
   "outputs": [
    {
     "data": {
      "text/plain": [
       "'i'"
      ]
     },
     "execution_count": 3,
     "metadata": {},
     "output_type": "execute_result"
    }
   ],
   "source": [
    "text[1]"
   ]
  },
  {
   "cell_type": "code",
   "execution_count": 4,
   "metadata": {},
   "outputs": [],
   "source": [
    "def read_den(filename):\n",
    "    infile=open(filename,'r')\n",
    "    densities={}\n",
    "    for line in infile:\n",
    "        words=line.split()\n",
    "        density=float(words[-1])\n",
    "        \n",
    "        if len(words[:-1])==2:\n",
    "            substance=words[0]+' '+words[1]\n",
    "        else: \n",
    "            substance=words[0]\n",
    "        densities[substance]=density\n",
    "    infile.close()\n",
    "    return densities\n"
   ]
  },
  {
   "cell_type": "code",
   "execution_count": 5,
   "metadata": {},
   "outputs": [],
   "source": [
    "dentDict=read_den('densities.txt')"
   ]
  },
  {
   "cell_type": "code",
   "execution_count": 6,
   "metadata": {},
   "outputs": [
    {
     "data": {
      "text/plain": [
       "0.0012"
      ]
     },
     "execution_count": 6,
     "metadata": {},
     "output_type": "execute_result"
    }
   ],
   "source": [
    "dentDict['air']"
   ]
  },
  {
   "cell_type": "code",
   "execution_count": 7,
   "metadata": {},
   "outputs": [
    {
     "name": "stdout",
     "output_type": "stream",
     "text": [
      "air         0.0012\n",
      "\n",
      "gasoline    0.67\n",
      "\n",
      "ice         0.9\n",
      "\n",
      "pure water  1.0\n",
      "\n",
      "seawater    1.025\n",
      "\n",
      "human body  1.03\n",
      "\n",
      "limestone   2.6\n",
      "\n",
      "granite     2.7\n",
      "\n",
      "iron        7.8\n",
      "\n",
      "silver      10.5\n",
      "\n",
      "mercury     13.6\n",
      "\n",
      "gold        18.9\n",
      "\n",
      "platinium   21.4\n",
      "\n",
      "Earth mean  5.52\n",
      "\n",
      "Earth core  13\n",
      "\n",
      "Moon        3.3\n",
      "\n",
      "Sun mean    1.4\n",
      "\n",
      "Sun core    160\n",
      "\n",
      "proton      2.3E+14\n"
     ]
    }
   ],
   "source": [
    "f=open(\"densities.txt\",\"r\")\n",
    "for x in f:\n",
    "    print(x)"
   ]
  },
  {
   "cell_type": "code",
   "execution_count": 8,
   "metadata": {},
   "outputs": [],
   "source": [
    "lines=[]\n",
    "with open('densities.txt') as f:\n",
    "    lines=f.readlines()"
   ]
  },
  {
   "cell_type": "code",
   "execution_count": 9,
   "metadata": {},
   "outputs": [
    {
     "data": {
      "text/plain": [
       "list"
      ]
     },
     "execution_count": 9,
     "metadata": {},
     "output_type": "execute_result"
    }
   ],
   "source": [
    "type(lines)"
   ]
  },
  {
   "cell_type": "code",
   "execution_count": 10,
   "metadata": {},
   "outputs": [],
   "source": [
    "def workLin(ls):\n",
    "    douL=[]\n",
    "    dicDen={}\n",
    "    n=0\n",
    "    for line in lines:\n",
    "        wd=line.split()\n",
    "        douL.append(wd)\n",
    "        if len(douL[n])==3:\n",
    "            sus=douL[n][0]+douL[n][2]\n",
    "            dicDen[sus]=douL[n][2]\n",
    "        else:\n",
    "            sus=douL[n][0]\n",
    "            dicDen[sus]=douL[n][1]\n",
    "        n=n+1\n",
    "            \n",
    "    return douL,dicDen"
   ]
  },
  {
   "cell_type": "code",
   "execution_count": 11,
   "metadata": {},
   "outputs": [],
   "source": [
    "LW,DW=workLin(list)"
   ]
  },
  {
   "cell_type": "code",
   "execution_count": 12,
   "metadata": {},
   "outputs": [
    {
     "data": {
      "text/plain": [
       "[['air', '0.0012'],\n",
       " ['gasoline', '0.67'],\n",
       " ['ice', '0.9'],\n",
       " ['pure', 'water', '1.0'],\n",
       " ['seawater', '1.025'],\n",
       " ['human', 'body', '1.03'],\n",
       " ['limestone', '2.6'],\n",
       " ['granite', '2.7'],\n",
       " ['iron', '7.8'],\n",
       " ['silver', '10.5'],\n",
       " ['mercury', '13.6'],\n",
       " ['gold', '18.9'],\n",
       " ['platinium', '21.4'],\n",
       " ['Earth', 'mean', '5.52'],\n",
       " ['Earth', 'core', '13'],\n",
       " ['Moon', '3.3'],\n",
       " ['Sun', 'mean', '1.4'],\n",
       " ['Sun', 'core', '160'],\n",
       " ['proton', '2.3E+14']]"
      ]
     },
     "execution_count": 12,
     "metadata": {},
     "output_type": "execute_result"
    }
   ],
   "source": [
    "LW"
   ]
  },
  {
   "cell_type": "code",
   "execution_count": 13,
   "metadata": {},
   "outputs": [
    {
     "data": {
      "text/plain": [
       "{'air': '0.0012',\n",
       " 'gasoline': '0.67',\n",
       " 'ice': '0.9',\n",
       " 'pure1.0': '1.0',\n",
       " 'seawater': '1.025',\n",
       " 'human1.03': '1.03',\n",
       " 'limestone': '2.6',\n",
       " 'granite': '2.7',\n",
       " 'iron': '7.8',\n",
       " 'silver': '10.5',\n",
       " 'mercury': '13.6',\n",
       " 'gold': '18.9',\n",
       " 'platinium': '21.4',\n",
       " 'Earth5.52': '5.52',\n",
       " 'Earth13': '13',\n",
       " 'Moon': '3.3',\n",
       " 'Sun1.4': '1.4',\n",
       " 'Sun160': '160',\n",
       " 'proton': '2.3E+14'}"
      ]
     },
     "execution_count": 13,
     "metadata": {},
     "output_type": "execute_result"
    }
   ],
   "source": [
    "DW"
   ]
  },
  {
   "cell_type": "code",
   "execution_count": 14,
   "metadata": {},
   "outputs": [
    {
     "data": {
      "text/plain": [
       "{'air': 0.0012,\n",
       " 'gasoline': 0.67,\n",
       " 'ice': 0.9,\n",
       " 'pure water': 1.0,\n",
       " 'seawater': 1.025,\n",
       " 'human body': 1.03,\n",
       " 'limestone': 2.6,\n",
       " 'granite': 2.7,\n",
       " 'iron': 7.8,\n",
       " 'silver': 10.5,\n",
       " 'mercury': 13.6,\n",
       " 'gold': 18.9,\n",
       " 'platinium': 21.4,\n",
       " 'Earth mean': 5.52,\n",
       " 'Earth core': 13.0,\n",
       " 'Moon': 3.3,\n",
       " 'Sun mean': 1.4,\n",
       " 'Sun core': 160.0,\n",
       " 'proton': 230000000000000.0}"
      ]
     },
     "execution_count": 14,
     "metadata": {},
     "output_type": "execute_result"
    }
   ],
   "source": [
    "dentDict"
   ]
  },
  {
   "cell_type": "code",
   "execution_count": 15,
   "metadata": {},
   "outputs": [
    {
     "name": "stdout",
     "output_type": "stream",
     "text": [
      "0.0012\n",
      "0.67\n",
      "0.9\n",
      "1.0\n",
      "1.025\n",
      "1.03\n",
      "2.6\n",
      "2.7\n",
      "7.8\n",
      "10.5\n",
      "13.6\n",
      "18.9\n",
      "21.4\n",
      "5.52\n",
      "13.0\n",
      "3.3\n",
      "1.4\n",
      "160.0\n",
      "230000000000000.0\n"
     ]
    }
   ],
   "source": [
    "for material in dentDict:\n",
    "    print(dentDict[material])"
   ]
  },
  {
   "cell_type": "code",
   "execution_count": 16,
   "metadata": {},
   "outputs": [],
   "source": [
    "import numpy as np\n",
    "import matplotlib.pyplot as plt\n",
    "%matplotlib inline"
   ]
  },
  {
   "cell_type": "code",
   "execution_count": 18,
   "metadata": {},
   "outputs": [
    {
     "data": {
      "text/plain": [
       "array([0., 0., 0., 0., 0., 0., 0., 0., 0., 0., 0., 0., 0., 0., 0., 0., 0.,\n",
       "       0., 0.])"
      ]
     },
     "execution_count": 18,
     "metadata": {},
     "output_type": "execute_result"
    }
   ],
   "source": []
  },
  {
   "cell_type": "code",
   "execution_count": null,
   "metadata": {},
   "outputs": [],
   "source": []
  }
 ],
 "metadata": {
  "kernelspec": {
   "display_name": "Python 3",
   "language": "python",
   "name": "python3"
  },
  "language_info": {
   "codemirror_mode": {
    "name": "ipython",
    "version": 3
   },
   "file_extension": ".py",
   "mimetype": "text/x-python",
   "name": "python",
   "nbconvert_exporter": "python",
   "pygments_lexer": "ipython3",
   "version": "3.7.6"
  }
 },
 "nbformat": 4,
 "nbformat_minor": 4
}
