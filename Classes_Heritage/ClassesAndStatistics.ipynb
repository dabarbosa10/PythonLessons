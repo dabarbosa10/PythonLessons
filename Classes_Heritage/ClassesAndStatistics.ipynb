{
 "cells": [
  {
   "cell_type": "code",
   "execution_count": 1,
   "metadata": {},
   "outputs": [],
   "source": [
    "import numpy as np\n",
    "import matplotlib.pyplot as plt\n",
    "%matplotlib inline"
   ]
  },
  {
   "cell_type": "code",
   "execution_count": 2,
   "metadata": {},
   "outputs": [],
   "source": [
    "class Vtr(object):\n",
    "    def __init__(self,x1,x2):\n",
    "        self.x1=x1\n",
    "        self.x2=x2\n",
    "        \n",
    "    def scalar(self):\n",
    "        return np.dot(self.x1,self.x2)\n",
    "    \n",
    "    def Sum(self):\n",
    "        return (self.x1+self.x2)\n",
    "    \n",
    "    def CrossP(self):\n",
    "        return np.cross(self.x1,self.x2)"
   ]
  },
  {
   "cell_type": "code",
   "execution_count": 3,
   "metadata": {},
   "outputs": [],
   "source": [
    "x=np.array([0,0,0])\n",
    "y=np.array([1,1,1])\n",
    "vectors1=Vtr(x,y)"
   ]
  },
  {
   "cell_type": "code",
   "execution_count": 4,
   "metadata": {},
   "outputs": [
    {
     "name": "stdout",
     "output_type": "stream",
     "text": [
      "0\n",
      "[1 1 1]\n",
      "[0 0 0]\n"
     ]
    }
   ],
   "source": [
    "print(vectors1.scalar())\n",
    "print(vectors1.Sum())\n",
    "print(vectors1.CrossP())"
   ]
  },
  {
   "cell_type": "code",
   "execution_count": 5,
   "metadata": {},
   "outputs": [],
   "source": [
    "x1=np.array([1,0,0])\n",
    "y1=np.array([0,1,0])\n",
    "vectors2=Vtr(x1,y1)"
   ]
  },
  {
   "cell_type": "code",
   "execution_count": 6,
   "metadata": {},
   "outputs": [
    {
     "name": "stdout",
     "output_type": "stream",
     "text": [
      "The dot product is: 0\n",
      "The sum is  [1 1 0]\n",
      "The cross product  [0 0 1]\n"
     ]
    }
   ],
   "source": [
    "print(\"The dot product is:\", vectors2.scalar())\n",
    "print(\"The sum is \",vectors2.Sum())\n",
    "print(\"The cross product \",vectors2.CrossP())"
   ]
  },
  {
   "cell_type": "code",
   "execution_count": 7,
   "metadata": {},
   "outputs": [],
   "source": [
    "import pylab\n",
    "import random"
   ]
  },
  {
   "cell_type": "code",
   "execution_count": 8,
   "metadata": {},
   "outputs": [],
   "source": [
    "def flip(numFlips):\n",
    "    heads=0\n",
    "    for i in range(numFlips):\n",
    "        if random.choice(('H','T'))=='H':\n",
    "            heads+=1\n",
    "    return heads/numFlips\n",
    "\n",
    "def flipSim(numFlipsPerTrial,numTrials):\n",
    "    fracHeads=[]\n",
    "    for i in range(numTrials):\n",
    "        fracHeads.append(flip(numFlipsPerTrial))\n",
    "    mean=sum(fracHeads)/len(fracHeads)\n",
    "    return mean"
   ]
  },
  {
   "cell_type": "code",
   "execution_count": 9,
   "metadata": {},
   "outputs": [
    {
     "name": "stdout",
     "output_type": "stream",
     "text": [
      "Mean= 0.7\n"
     ]
    }
   ],
   "source": [
    "print('Mean=',flipSim(10,1))"
   ]
  },
  {
   "cell_type": "code",
   "execution_count": 10,
   "metadata": {},
   "outputs": [
    {
     "name": "stdout",
     "output_type": "stream",
     "text": [
      "Mean 0.5000999999999999\n"
     ]
    }
   ],
   "source": [
    "print('Mean',flipSim(10,1000))"
   ]
  },
  {
   "cell_type": "code",
   "execution_count": null,
   "metadata": {},
   "outputs": [],
   "source": [
    "def regressToMean(numFlips,numTrials):\n",
    "    fracHeads=[]\n",
    "    for t in range(numTrials):\n",
    "        fracHeads.append(flip(numFlips))\n",
    "    "
   ]
  }
 ],
 "metadata": {
  "kernelspec": {
   "display_name": "Python 3",
   "language": "python",
   "name": "python3"
  },
  "language_info": {
   "codemirror_mode": {
    "name": "ipython",
    "version": 3
   },
   "file_extension": ".py",
   "mimetype": "text/x-python",
   "name": "python",
   "nbconvert_exporter": "python",
   "pygments_lexer": "ipython3",
   "version": "3.7.6"
  }
 },
 "nbformat": 4,
 "nbformat_minor": 4
}
