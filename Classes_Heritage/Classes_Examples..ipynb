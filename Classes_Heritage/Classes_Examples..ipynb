{
 "cells": [
  {
   "cell_type": "code",
   "execution_count": 1,
   "metadata": {},
   "outputs": [],
   "source": [
    "class Intset(object):\n",
    "    \"\"\"Intset is a set of integers\"\"\"\n",
    "    def __init__(self):\n",
    "        \"\"\"creates an empty list\"\"\"\n",
    "        self.vals=[]\n",
    "    def insert(self,e):\n",
    "        \"\"\"If e is an integer, it may be insterted\"\"\"\n",
    "        if e not in self.vals:\n",
    "            self.vals.append(e)\n",
    "    def member(self,e):\n",
    "        \"\"\"Returns true if w is in self\"\"\"\n",
    "        return e in self.vals\n",
    "    def remove(self,e):\n",
    "        \"\"\"Removes e from self and Raises ValueError if e is not in self\"\"\"\n",
    "        try:\n",
    "            self.vals.remove(e)\n",
    "        except:\n",
    "            raise ValueError(str(e)+' not found!')\n",
    "    def getMembers(self):\n",
    "        \"\"\"Returns a list containing the elements of self.\"\"\"\n",
    "        return self.vals[:]\n",
    "    def __str__(self):\n",
    "        \"\"\"Returns a string representation of self\"\"\" \n",
    "        self.vals.sort()\n",
    "        result = ''\n",
    "        for e in self.vals:\n",
    "            result = result + str(e) + ','\n",
    "        return '{' + result[:-1] + '}'"
   ]
  },
  {
   "cell_type": "markdown",
   "metadata": {},
   "source": [
    "Function definition inside a class function: Method associated with the class (methods attributes).\n",
    "\n",
    "Instace s=Intset(), creates a new object. \n"
   ]
  },
  {
   "cell_type": "code",
   "execution_count": 2,
   "metadata": {},
   "outputs": [],
   "source": [
    "sample=Intset()\n",
    "sample.insert(3)"
   ]
  },
  {
   "cell_type": "code",
   "execution_count": 3,
   "metadata": {},
   "outputs": [
    {
     "name": "stdout",
     "output_type": "stream",
     "text": [
      "True\n"
     ]
    }
   ],
   "source": [
    "print(sample.member(3))"
   ]
  },
  {
   "cell_type": "code",
   "execution_count": 4,
   "metadata": {},
   "outputs": [
    {
     "data": {
      "text/plain": [
       "[3]"
      ]
     },
     "execution_count": 4,
     "metadata": {},
     "output_type": "execute_result"
    }
   ],
   "source": [
    "sample.getMembers()"
   ]
  },
  {
   "cell_type": "code",
   "execution_count": 5,
   "metadata": {},
   "outputs": [
    {
     "name": "stdout",
     "output_type": "stream",
     "text": [
      "{3,4,5}\n"
     ]
    }
   ],
   "source": [
    "sample2=Intset()\n",
    "sample2.insert(3)\n",
    "sample2.insert(4)\n",
    "sample2.insert(5)\n",
    "print(sample2)"
   ]
  },
  {
   "cell_type": "markdown",
   "metadata": {},
   "source": [
    "If the print command is used, _ _ str_ _ function is invoked"
   ]
  },
  {
   "cell_type": "code",
   "execution_count": 6,
   "metadata": {},
   "outputs": [],
   "source": [
    "import datetime\n"
   ]
  },
  {
   "cell_type": "code",
   "execution_count": 10,
   "metadata": {},
   "outputs": [],
   "source": [
    "class Person(object):\n",
    "    def __init__(self,name):\n",
    "        \"\"\"Create\"\"\"\n",
    "        self.name=name\n",
    "        try:\n",
    "            lastBlanck=name.rindex(' ')\n",
    "            self.lastName=name[lastBlanck+1:]\n",
    "        except:\n",
    "            self.lastName=name\n",
    "        self.birthday=None\n",
    "        \n",
    "    def getName(self):\n",
    "        \"\"\"Returns full name\"\"\"\n",
    "        return self.name\n",
    "    \n",
    "    def getLastName(self):\n",
    "        return self.lastName\n",
    "    \n",
    "    def setBirthday(self,birthdate):\n",
    "        self.birthday=birthdate\n",
    "    \n",
    "    def getAge(self):\n",
    "        if self.birthday==None:\n",
    "            raise ValueError\n",
    "        return (datetime.date.today()-self.birthday).days\n",
    "    \n",
    "    def __lt__(self,other):\n",
    "        if self.lastName==other.lastName:\n",
    "            return self.name<other.name\n",
    "        return self.lastName<other.lastName\n",
    "    \n",
    "    def __str__(self):\n",
    "        return self.name"
   ]
  },
  {
   "cell_type": "code",
   "execution_count": 11,
   "metadata": {},
   "outputs": [],
   "source": [
    "p1=Person('Diego Barbosa')\n",
    "p2=Person('John F Kennedy')\n",
    "p3=Person('Neymar')"
   ]
  },
  {
   "cell_type": "code",
   "execution_count": 12,
   "metadata": {},
   "outputs": [
    {
     "name": "stdout",
     "output_type": "stream",
     "text": [
      "Kennedy\n"
     ]
    }
   ],
   "source": [
    "print(p2.getLastName())"
   ]
  },
  {
   "cell_type": "code",
   "execution_count": 13,
   "metadata": {},
   "outputs": [],
   "source": [
    "p2.setBirthday(datetime.date(1917,5,29))\n",
    "p3.setBirthday(datetime.date(1992,2,5))"
   ]
  },
  {
   "cell_type": "code",
   "execution_count": 14,
   "metadata": {},
   "outputs": [
    {
     "name": "stdout",
     "output_type": "stream",
     "text": [
      "John F Kennedy is 37709 days old\n"
     ]
    }
   ],
   "source": [
    "print(p2.getName(), 'is', p2.getAge(),'days old')"
   ]
  },
  {
   "cell_type": "code",
   "execution_count": null,
   "metadata": {},
   "outputs": [],
   "source": []
  }
 ],
 "metadata": {
  "kernelspec": {
   "display_name": "Python 3",
   "language": "python",
   "name": "python3"
  },
  "language_info": {
   "codemirror_mode": {
    "name": "ipython",
    "version": 3
   },
   "file_extension": ".py",
   "mimetype": "text/x-python",
   "name": "python",
   "nbconvert_exporter": "python",
   "pygments_lexer": "ipython3",
   "version": "3.7.6"
  }
 },
 "nbformat": 4,
 "nbformat_minor": 4
}
