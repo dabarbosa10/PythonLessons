{
  "nbformat": 4,
  "nbformat_minor": 0,
  "metadata": {
    "colab": {
      "name": "Hw1.ipynb",
      "provenance": []
    },
    "kernelspec": {
      "name": "python3",
      "display_name": "Python 3"
    }
  },
  "cells": [
    {
      "cell_type": "code",
      "metadata": {
        "id": "Sc3Q-pCgxTCv"
      },
      "source": [
        "import numpy as np \n",
        "import matplotlib.pyplot as plt\n",
        "%matplotlib inline"
      ],
      "execution_count": 1,
      "outputs": []
    },
    {
      "cell_type": "code",
      "metadata": {
        "id": "XPfzz7z_xY5S"
      },
      "source": [
        "class projectile:\n",
        "  def __init__(self,t, v0 ,theta):\n",
        "    self.t=t\n",
        "    self.g=9.81\n",
        "    self.theta=theta*(np.pi/180)\n",
        "    self.v0=v0\n",
        "\n",
        "  def position(self):\n",
        "    t1=np.arange(0,self.t,0.001)\n",
        "    x=self.v0*np.cos(self.theta)*t1\n",
        "    y=self.v0*np.sin(self.theta)*t1-0.5*self.g*(t1)**2\n",
        "    return x,y\n",
        "  def plot(self):\n",
        "    t1=np.arange(0,self.t,0.001)\n",
        "    x=self.v0*np.cos(self.theta)*t1\n",
        "    y=self.v0*np.sin(self.theta)*t1-0.5*self.g*(t1)**2\n",
        "    plt.plot(x,y,'r')\n",
        "    plt.xlabel('x')\n",
        "    plt.ylabel('y')\n",
        "    plt.grid()\n",
        "  "
      ],
      "execution_count": 7,
      "outputs": []
    },
    {
      "cell_type": "code",
      "metadata": {
        "id": "p1r50p5v45ZI"
      },
      "source": [
        "projec1=projectile(4,24,45)"
      ],
      "execution_count": 8,
      "outputs": []
    },
    {
      "cell_type": "code",
      "metadata": {
        "id": "ompXoU925m5L"
      },
      "source": [
        "x1,y1=projec1.position()"
      ],
      "execution_count": 9,
      "outputs": []
    },
    {
      "cell_type": "code",
      "metadata": {
        "colab": {
          "base_uri": "https://localhost:8080/",
          "height": 282
        },
        "id": "xwaxUNTm5vFh",
        "outputId": "5f2957e7-6d5c-44f7-af4a-495a22a4ac7f"
      },
      "source": [
        "plt.plot(x1,y1)"
      ],
      "execution_count": 10,
      "outputs": [
        {
          "output_type": "execute_result",
          "data": {
            "text/plain": [
              "[<matplotlib.lines.Line2D at 0x7f17ec0f0908>]"
            ]
          },
          "metadata": {
            "tags": []
          },
          "execution_count": 10
        },
        {
          "output_type": "display_data",
          "data": {
            "image/png": "[encoded data removed]",
            "text/plain": [
              "<Figure size 432x288 with 1 Axes>"
            ]
          },
          "metadata": {
            "tags": [],
            "needs_background": "light"
          }
        }
      ]
    },
    {
      "cell_type": "code",
      "metadata": {
        "colab": {
          "base_uri": "https://localhost:8080/",
          "height": 279
        },
        "id": "qIGaDwtx6ELU",
        "outputId": "d38bca65-ee39-4920-e97a-bc481d95b2fc"
      },
      "source": [
        "projec1.plot()"
      ],
      "execution_count": 11,
      "outputs": [
        {
          "output_type": "display_data",
          "data": {
            "image/png": "[encoded data removed]",
            "text/plain": [
              "<Figure size 432x288 with 1 Axes>"
            ]
          },
          "metadata": {
            "tags": [],
            "needs_background": "light"
          }
        }
      ]
    },
    {
      "cell_type": "code",
      "metadata": {
        "id": "7gdCsvfg7IJf"
      },
      "source": [
        ""
      ],
      "execution_count": 6,
      "outputs": []
    }
  ]
}